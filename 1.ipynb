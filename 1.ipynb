{
 "cells": [
  {
   "cell_type": "markdown",
   "id": "ae38882b-4300-46c2-881b-58d3596a3cf4",
   "metadata": {},
   "source": [
    "## Importing libraries"
   ]
  },
  {
   "cell_type": "code",
   "execution_count": null,
   "id": "a4b29def-54d6-4272-a55e-6ffa72861299",
   "metadata": {},
   "outputs": [],
   "source": [
    "#Scrapping libraries\n",
    "import scrapy\n",
    "import logging\n",
    "from scrapy.crawler import CrawlerProcess\n",
    "from scrapy_selenium import SeleniumRequest"
   ]
  },
  {
   "cell_type": "code",
   "execution_count": 1,
   "id": "cf24cba5-3b68-42cc-8b4a-98916f05c628",
   "metadata": {},
   "outputs": [],
   "source": [
    "#Essentials\n",
    "import numpy as np\n",
    "import pandas as pd\n",
    "import seaborn as sns\n",
    "import matplotlib.pyplot as plt\n",
    "#Preprocess\n",
    "from sklearn.model_selection import train_test_split\n",
    "from sklearn.preprocessing import MinMaxScaler, LabelEncoder\n",
    "#Modeling and evaluation\n",
    "from sklearn.linear_model import LinearRegression\n",
    "from sklearn.cluster import KMeans\n",
    "from sklearn.metrics import silhouette_score, mean_squared_error, r2_score\n",
    "from statsmodels.compat import lzip\n",
    "import statsmodels.api as sm\n",
    "import statsmodels.stats.api as sms"
   ]
  },
  {
   "cell_type": "code",
   "execution_count": null,
   "id": "3c9c2b1d-2a22-49db-bdb7-4f19cff012b7",
   "metadata": {},
   "outputs": [],
   "source": [
    "#Spider to scrap de data, it can also be run as .py file\n",
    "class HousesSpider(scrapy.Spider):\n",
    "    name = 'vivanuncios'\n",
    "    custom_settings = {'FEEDS': { 'data_houses.csv': { 'format': 'csv'}}\n",
    "        }\n",
    "    def remove_characters(self, value):\n",
    "        return value.strip(' m²')\n",
    "\n",
    "    def remove_coma(self, value):\n",
    "        return value.strip(',')\n",
    "\n",
    "    def remove_plus(self, value):\n",
    "        return value.strip('+')\n",
    "\n",
    "    def start_requests(self):\n",
    "        urls = [f'https://www.vivanuncios.com.mx/s-venta-inmuebles/mazatlan/page-{i}/v1c1097l11875p{i}'.format(i) for i\n",
    "                in range(1, 51)]\n",
    "        for url in urls:\n",
    "            yield SeleniumRequest(\n",
    "                url=url,\n",
    "                wait_time=5,\n",
    "                callback=self.parse\n",
    "            )\n",
    "\n",
    "    \n",
    "    def parse(self, response):\n",
    "        homes = response.xpath(\"//div[@id='tileRedesign']/div\")\n",
    "        for home in homes:\n",
    "            yield {\n",
    "                'price': home.xpath(\"normalize-space(.//span[@class='ad-price']/text())\").get(),\n",
    "                'location': home.xpath(\".//div[@class='tile-location one-liner']/b/text()\").get(),\n",
    "                'description': home.xpath(\".//div[@class='tile-desc one-liner']/a/text()\").get(),\n",
    "                'bathrooms': self.remove_plus(\n",
    "                    home.xpath(\"normalize-space(//div[@class='chiplets-inline-block re-bathroom']/text())\").get()),\n",
    "                'bedrooms': self.remove_plus(\n",
    "                    home.xpath(\"normalize-space(.//div[@class='chiplets-inline-block re-bedroom']/text())\").get()),\n",
    "                'm2': self.remove_characters(\n",
    "                    home.xpath(\"normalize-space(.//div[@class='chiplets-inline-block surface-area']/text())\").get()),\n",
    "            }"
   ]
  },
  {
   "cell_type": "code",
   "execution_count": null,
   "id": "feab2e11-8c60-44c6-a503-096bbb3860c3",
   "metadata": {
    "tags": []
   },
   "outputs": [],
   "source": [
    "#Running the spider inside the notebook\n",
    "process = CrawlerProcess({\n",
    "    'USER_AGENT': 'Mozilla/5.0 (Windows NT 10.0; Win64; x64) AppleWebKit/537.36 (KHTML, like Gecko) Chrome/114.0.0.0 Safari/537.36'})\n",
    "\n",
    "process.crawl(HousesSpider)\n",
    "process.start()"
   ]
  },
  {
   "cell_type": "markdown",
   "id": "e0ef807a",
   "metadata": {},
   "source": [
    "# Loading data"
   ]
  },
  {
   "cell_type": "code",
   "execution_count": 51,
   "id": "f6b3bcdf-9cde-431b-be58-1d07086a0e42",
   "metadata": {},
   "outputs": [],
   "source": [
    "df = pd.read_csv('data_houses.csv')"
   ]
  },
  {
   "cell_type": "code",
   "execution_count": 52,
   "id": "1aebdc86-123e-457e-95ca-c4b4304d7107",
   "metadata": {},
   "outputs": [
    {
     "name": "stdout",
     "output_type": "stream",
     "text": [
      "<class 'pandas.core.frame.DataFrame'>\n",
      "RangeIndex: 1397 entries, 0 to 1396\n",
      "Data columns (total 6 columns):\n",
      " #   Column       Non-Null Count  Dtype \n",
      "---  ------       --------------  ----- \n",
      " 0   price        1343 non-null   object\n",
      " 1   location     1347 non-null   object\n",
      " 2   description  1347 non-null   object\n",
      " 3   bathrooms    1397 non-null   int64 \n",
      " 4   bedrooms     1347 non-null   object\n",
      " 5   m2           811 non-null    object\n",
      "dtypes: int64(1), object(5)\n",
      "memory usage: 65.6+ KB\n"
     ]
    }
   ],
   "source": [
    "df.info()"
   ]
  },
  {
   "cell_type": "code",
   "execution_count": 53,
   "id": "56715d1d",
   "metadata": {},
   "outputs": [
    {
     "data": {
      "text/plain": [
       "(1397, 6)"
      ]
     },
     "execution_count": 53,
     "metadata": {},
     "output_type": "execute_result"
    }
   ],
   "source": [
    "df.shape"
   ]
  },
  {
   "cell_type": "code",
   "execution_count": 54,
   "id": "d25d6eeb-1810-46d8-b578-8353972556ca",
   "metadata": {},
   "outputs": [
    {
     "data": {
      "text/plain": [
       "price           54\n",
       "location        50\n",
       "description     50\n",
       "bathrooms        0\n",
       "bedrooms        50\n",
       "m2             586\n",
       "dtype: int64"
      ]
     },
     "execution_count": 54,
     "metadata": {},
     "output_type": "execute_result"
    }
   ],
   "source": [
    "df.isna().sum()"
   ]
  },
  {
   "cell_type": "markdown",
   "id": "36efea01",
   "metadata": {},
   "source": [
    "# Preprocessing"
   ]
  },
  {
   "cell_type": "markdown",
   "id": "b87e6192-1eae-420f-8417-29286d187cb1",
   "metadata": {},
   "source": [
    "### Extracting information from description field"
   ]
  },
  {
   "cell_type": "code",
   "execution_count": 55,
   "id": "4d430c40",
   "metadata": {},
   "outputs": [],
   "source": [
    "keywords = ['apartment', 'house', 'NOTA']"
   ]
  },
  {
   "cell_type": "code",
   "execution_count": 56,
   "id": "9b612fd6",
   "metadata": {},
   "outputs": [],
   "source": [
    "df.description = df['description'].astype(str).str.lower()\n",
    "df['description'] = df['description'].str.replace('departamento', 'apartment')\n",
    "df['description'] = df['description'].str.replace('departamentos', 'apartment')\n",
    "df['description'] = df['description'].str.replace('casa', 'house')\n",
    "df['description'] = df['description'].str.replace('casas', 'house')\n",
    "df['description'] = df['description'].str.replace('condominio', 'NOTA')\n",
    "df['description'] = df['description'].str.replace('condominios', 'NOTA')\n",
    "df['description'] = df['description'].str.replace('penthouse', 'NOTA')\n",
    "df['description'] = df['description'].str.replace('residencial', 'NOTA')"
   ]
  },
  {
   "cell_type": "code",
   "execution_count": 57,
   "id": "ef17da17-c980-47c1-9e8e-e60884dbbd97",
   "metadata": {},
   "outputs": [],
   "source": [
    "df2=df.copy()"
   ]
  },
  {
   "cell_type": "code",
   "execution_count": 58,
   "id": "68e3e8c3",
   "metadata": {
    "scrolled": true
   },
   "outputs": [],
   "source": [
    "df2['prop'] = df2['description'].apply(lambda x:   x.split(' ') )\n",
    "df2 = df2.explode('prop')\n",
    "df2 = df2[df2['prop'].isin(keywords)]\n",
    "df2 = pd.get_dummies(df2, columns=['prop']).drop_duplicates()"
   ]
  },
  {
   "cell_type": "markdown",
   "id": "ab0fdbf9-cc9a-4290-8c5b-c664540a5004",
   "metadata": {},
   "source": [
    "### Matching the currency used for price to be MXN"
   ]
  },
  {
   "cell_type": "code",
   "execution_count": 59,
   "id": "93ea63fe",
   "metadata": {
    "tags": []
   },
   "outputs": [],
   "source": [
    "#Value in MXN of one USD\n",
    "curr_rate = 18.39\n",
    "multiplier = np.where(df2['price'].str.contains('USD'), curr_rate, 1)"
   ]
  },
  {
   "cell_type": "code",
   "execution_count": 60,
   "id": "9933fb64",
   "metadata": {},
   "outputs": [],
   "source": [
    "def clean_currency(x):\n",
    "    if isinstance(x, str):\n",
    "        return(x.replace('$', '').replace(',', '').replace('USD',''))\n",
    "    return(x)"
   ]
  },
  {
   "cell_type": "code",
   "execution_count": 61,
   "id": "e4dd48f6",
   "metadata": {},
   "outputs": [],
   "source": [
    "df2['price'] = df2['price'].apply(clean_currency).astype('float')\n",
    "df2.price = df2['price'] * multiplier"
   ]
  },
  {
   "cell_type": "code",
   "execution_count": 62,
   "id": "a431f26b",
   "metadata": {
    "scrolled": true,
    "tags": []
   },
   "outputs": [
    {
     "name": "stdout",
     "output_type": "stream",
     "text": [
      "<class 'pandas.core.frame.DataFrame'>\n",
      "Int64Index: 938 entries, 4 to 1393\n",
      "Data columns (total 9 columns):\n",
      " #   Column          Non-Null Count  Dtype  \n",
      "---  ------          --------------  -----  \n",
      " 0   price           935 non-null    float64\n",
      " 1   location        938 non-null    object \n",
      " 2   description     938 non-null    object \n",
      " 3   bathrooms       938 non-null    int64  \n",
      " 4   bedrooms        938 non-null    object \n",
      " 5   m2              538 non-null    object \n",
      " 6   prop_NOTA       938 non-null    uint8  \n",
      " 7   prop_apartment  938 non-null    uint8  \n",
      " 8   prop_house      938 non-null    uint8  \n",
      "dtypes: float64(1), int64(1), object(4), uint8(3)\n",
      "memory usage: 54.0+ KB\n"
     ]
    }
   ],
   "source": [
    "df2.info()"
   ]
  },
  {
   "cell_type": "markdown",
   "id": "90c89154-52a4-4d69-aed8-b7f3cb76f11c",
   "metadata": {},
   "source": [
    "### Working with format values, NaN and sample size"
   ]
  },
  {
   "cell_type": "code",
   "execution_count": 63,
   "id": "36472854",
   "metadata": {},
   "outputs": [],
   "source": [
    "df2.fillna(0, inplace = True)"
   ]
  },
  {
   "cell_type": "code",
   "execution_count": 64,
   "id": "9ad7e92a",
   "metadata": {},
   "outputs": [],
   "source": [
    "df2.reset_index(inplace = True, drop = True)"
   ]
  },
  {
   "cell_type": "code",
   "execution_count": 65,
   "id": "322c9335",
   "metadata": {},
   "outputs": [],
   "source": [
    "df2.m2 = df2.m2.astype(str)\n",
    "df2.bedrooms = df2.bedrooms.astype(str)"
   ]
  },
  {
   "cell_type": "code",
   "execution_count": 66,
   "id": "3fe63b0e",
   "metadata": {
    "tags": []
   },
   "outputs": [],
   "source": [
    "m2 = df2.m2.apply(lambda x: (x.split('-')))\n",
    "bedrooms = df2.bedrooms.apply(lambda x: (x.split('-')))"
   ]
  },
  {
   "cell_type": "code",
   "execution_count": 67,
   "id": "9ff2c450",
   "metadata": {
    "tags": []
   },
   "outputs": [],
   "source": [
    "for i in range(0, len(df2)):\n",
    "    m2[i] = np.min(pd.to_numeric(m2[i]))\n",
    "    bedrooms[i] = np.min(pd.to_numeric(bedrooms[i]))"
   ]
  },
  {
   "cell_type": "code",
   "execution_count": 68,
   "id": "ff249b8f",
   "metadata": {},
   "outputs": [],
   "source": [
    "df2.m2 = m2.astype(float)\n",
    "df2.bedrooms = bedrooms.astype(float)"
   ]
  },
  {
   "cell_type": "code",
   "execution_count": 69,
   "id": "bc25722b",
   "metadata": {
    "scrolled": true
   },
   "outputs": [],
   "source": [
    "df2['m2'].replace(0, np.nan, inplace = True)\n",
    "df2['price'].replace(0, np.nan, inplace = True)"
   ]
  },
  {
   "cell_type": "code",
   "execution_count": 70,
   "id": "6b83a781",
   "metadata": {},
   "outputs": [],
   "source": [
    "df3 = df2.drop('description', axis = 1).copy()"
   ]
  },
  {
   "cell_type": "code",
   "execution_count": 71,
   "id": "9ef3283d-8111-4730-8efd-10b1302f4fa7",
   "metadata": {
    "tags": []
   },
   "outputs": [],
   "source": [
    "df3 = df3.loc[((df3['m2'] < 500) & (df3['m2']>20)) | (df3['m2'].isna())]"
   ]
  },
  {
   "cell_type": "code",
   "execution_count": 72,
   "id": "feed3abb",
   "metadata": {
    "tags": []
   },
   "outputs": [],
   "source": [
    "lenc = LabelEncoder()\n",
    "df3['location'] = lenc.fit_transform(df3.location)"
   ]
  },
  {
   "cell_type": "code",
   "execution_count": 73,
   "id": "cbabfa6c-49f6-4786-980f-c596b6e13e4d",
   "metadata": {
    "tags": []
   },
   "outputs": [],
   "source": [
    "from sklearn.impute import KNNImputer\n",
    "imputer = KNNImputer(n_neighbors=3)\n",
    "df3= pd.DataFrame(imputer.fit_transform(df3), columns = df3.columns)"
   ]
  },
  {
   "cell_type": "code",
   "execution_count": 74,
   "id": "952c1f6c-114e-414b-b5eb-8de100b94f1c",
   "metadata": {},
   "outputs": [
    {
     "data": {
      "text/html": [
       "<div>\n",
       "<style scoped>\n",
       "    .dataframe tbody tr th:only-of-type {\n",
       "        vertical-align: middle;\n",
       "    }\n",
       "\n",
       "    .dataframe tbody tr th {\n",
       "        vertical-align: top;\n",
       "    }\n",
       "\n",
       "    .dataframe thead th {\n",
       "        text-align: right;\n",
       "    }\n",
       "</style>\n",
       "<table border=\"1\" class=\"dataframe\">\n",
       "  <thead>\n",
       "    <tr style=\"text-align: right;\">\n",
       "      <th></th>\n",
       "      <th>count</th>\n",
       "      <th>mean</th>\n",
       "      <th>std</th>\n",
       "      <th>min</th>\n",
       "      <th>25%</th>\n",
       "      <th>50%</th>\n",
       "      <th>75%</th>\n",
       "      <th>max</th>\n",
       "    </tr>\n",
       "  </thead>\n",
       "  <tbody>\n",
       "    <tr>\n",
       "      <th>price</th>\n",
       "      <td>898.0</td>\n",
       "      <td>5.274341e+06</td>\n",
       "      <td>3.845649e+06</td>\n",
       "      <td>370000.0</td>\n",
       "      <td>2832322.25</td>\n",
       "      <td>4100000.0</td>\n",
       "      <td>6.737366e+06</td>\n",
       "      <td>27995000.0</td>\n",
       "    </tr>\n",
       "    <tr>\n",
       "      <th>location</th>\n",
       "      <td>898.0</td>\n",
       "      <td>4.404343e+01</td>\n",
       "      <td>2.706274e+01</td>\n",
       "      <td>0.0</td>\n",
       "      <td>13.00</td>\n",
       "      <td>49.0</td>\n",
       "      <td>7.300000e+01</td>\n",
       "      <td>86.0</td>\n",
       "    </tr>\n",
       "    <tr>\n",
       "      <th>bathrooms</th>\n",
       "      <td>898.0</td>\n",
       "      <td>2.219376e+00</td>\n",
       "      <td>8.730978e-01</td>\n",
       "      <td>1.0</td>\n",
       "      <td>2.00</td>\n",
       "      <td>2.0</td>\n",
       "      <td>3.000000e+00</td>\n",
       "      <td>4.0</td>\n",
       "    </tr>\n",
       "    <tr>\n",
       "      <th>bedrooms</th>\n",
       "      <td>898.0</td>\n",
       "      <td>2.761693e+00</td>\n",
       "      <td>8.738759e-01</td>\n",
       "      <td>0.0</td>\n",
       "      <td>2.00</td>\n",
       "      <td>3.0</td>\n",
       "      <td>3.000000e+00</td>\n",
       "      <td>6.0</td>\n",
       "    </tr>\n",
       "    <tr>\n",
       "      <th>m2</th>\n",
       "      <td>898.0</td>\n",
       "      <td>1.901114e+02</td>\n",
       "      <td>8.803903e+01</td>\n",
       "      <td>44.0</td>\n",
       "      <td>125.00</td>\n",
       "      <td>180.0</td>\n",
       "      <td>2.213333e+02</td>\n",
       "      <td>498.0</td>\n",
       "    </tr>\n",
       "    <tr>\n",
       "      <th>prop_NOTA</th>\n",
       "      <td>898.0</td>\n",
       "      <td>1.525612e-01</td>\n",
       "      <td>3.597644e-01</td>\n",
       "      <td>0.0</td>\n",
       "      <td>0.00</td>\n",
       "      <td>0.0</td>\n",
       "      <td>0.000000e+00</td>\n",
       "      <td>1.0</td>\n",
       "    </tr>\n",
       "    <tr>\n",
       "      <th>prop_apartment</th>\n",
       "      <td>898.0</td>\n",
       "      <td>3.596882e-01</td>\n",
       "      <td>4.801764e-01</td>\n",
       "      <td>0.0</td>\n",
       "      <td>0.00</td>\n",
       "      <td>0.0</td>\n",
       "      <td>1.000000e+00</td>\n",
       "      <td>1.0</td>\n",
       "    </tr>\n",
       "    <tr>\n",
       "      <th>prop_house</th>\n",
       "      <td>898.0</td>\n",
       "      <td>4.877506e-01</td>\n",
       "      <td>5.001285e-01</td>\n",
       "      <td>0.0</td>\n",
       "      <td>0.00</td>\n",
       "      <td>0.0</td>\n",
       "      <td>1.000000e+00</td>\n",
       "      <td>1.0</td>\n",
       "    </tr>\n",
       "  </tbody>\n",
       "</table>\n",
       "</div>"
      ],
      "text/plain": [
       "                count          mean           std       min         25%  \\\n",
       "price           898.0  5.274341e+06  3.845649e+06  370000.0  2832322.25   \n",
       "location        898.0  4.404343e+01  2.706274e+01       0.0       13.00   \n",
       "bathrooms       898.0  2.219376e+00  8.730978e-01       1.0        2.00   \n",
       "bedrooms        898.0  2.761693e+00  8.738759e-01       0.0        2.00   \n",
       "m2              898.0  1.901114e+02  8.803903e+01      44.0      125.00   \n",
       "prop_NOTA       898.0  1.525612e-01  3.597644e-01       0.0        0.00   \n",
       "prop_apartment  898.0  3.596882e-01  4.801764e-01       0.0        0.00   \n",
       "prop_house      898.0  4.877506e-01  5.001285e-01       0.0        0.00   \n",
       "\n",
       "                      50%           75%         max  \n",
       "price           4100000.0  6.737366e+06  27995000.0  \n",
       "location             49.0  7.300000e+01        86.0  \n",
       "bathrooms             2.0  3.000000e+00         4.0  \n",
       "bedrooms              3.0  3.000000e+00         6.0  \n",
       "m2                  180.0  2.213333e+02       498.0  \n",
       "prop_NOTA             0.0  0.000000e+00         1.0  \n",
       "prop_apartment        0.0  1.000000e+00         1.0  \n",
       "prop_house            0.0  1.000000e+00         1.0  "
      ]
     },
     "execution_count": 74,
     "metadata": {},
     "output_type": "execute_result"
    }
   ],
   "source": [
    "df3.describe().T"
   ]
  },
  {
   "cell_type": "code",
   "execution_count": 75,
   "id": "fa7baefb",
   "metadata": {},
   "outputs": [],
   "source": [
    "mms = MinMaxScaler()\n",
    "df3[df3.columns] = mms.fit_transform(df3[df3.columns].copy())"
   ]
  },
  {
   "cell_type": "code",
   "execution_count": 76,
   "id": "e028e903-90e7-4e8f-975b-42558eb0bdcf",
   "metadata": {},
   "outputs": [
    {
     "data": {
      "text/plain": [
       "price             159.424370\n",
       "location          459.895349\n",
       "bathrooms         365.000000\n",
       "bedrooms          413.333333\n",
       "m2                289.004405\n",
       "prop_NOTA         137.000000\n",
       "prop_apartment    323.000000\n",
       "prop_house        438.000000\n",
       "dtype: float64"
      ]
     },
     "execution_count": 76,
     "metadata": {},
     "output_type": "execute_result"
    }
   ],
   "source": [
    "df3.sum()"
   ]
  },
  {
   "cell_type": "code",
   "execution_count": 77,
   "id": "a380a3c5",
   "metadata": {},
   "outputs": [
    {
     "data": {
      "text/html": [
       "<div>\n",
       "<style scoped>\n",
       "    .dataframe tbody tr th:only-of-type {\n",
       "        vertical-align: middle;\n",
       "    }\n",
       "\n",
       "    .dataframe tbody tr th {\n",
       "        vertical-align: top;\n",
       "    }\n",
       "\n",
       "    .dataframe thead th {\n",
       "        text-align: right;\n",
       "    }\n",
       "</style>\n",
       "<table border=\"1\" class=\"dataframe\">\n",
       "  <thead>\n",
       "    <tr style=\"text-align: right;\">\n",
       "      <th></th>\n",
       "      <th>price</th>\n",
       "      <th>location</th>\n",
       "      <th>bathrooms</th>\n",
       "      <th>bedrooms</th>\n",
       "      <th>m2</th>\n",
       "      <th>prop_NOTA</th>\n",
       "      <th>prop_apartment</th>\n",
       "      <th>prop_house</th>\n",
       "    </tr>\n",
       "  </thead>\n",
       "  <tbody>\n",
       "    <tr>\n",
       "      <th>0</th>\n",
       "      <td>0.312398</td>\n",
       "      <td>0.569767</td>\n",
       "      <td>0.333333</td>\n",
       "      <td>0.333333</td>\n",
       "      <td>0.667401</td>\n",
       "      <td>1.0</td>\n",
       "      <td>0.0</td>\n",
       "      <td>0.0</td>\n",
       "    </tr>\n",
       "    <tr>\n",
       "      <th>1</th>\n",
       "      <td>0.283439</td>\n",
       "      <td>0.546512</td>\n",
       "      <td>0.333333</td>\n",
       "      <td>0.500000</td>\n",
       "      <td>0.432452</td>\n",
       "      <td>0.0</td>\n",
       "      <td>1.0</td>\n",
       "      <td>0.0</td>\n",
       "    </tr>\n",
       "    <tr>\n",
       "      <th>2</th>\n",
       "      <td>0.022805</td>\n",
       "      <td>0.325581</td>\n",
       "      <td>0.333333</td>\n",
       "      <td>0.333333</td>\n",
       "      <td>0.026432</td>\n",
       "      <td>0.0</td>\n",
       "      <td>0.0</td>\n",
       "      <td>1.0</td>\n",
       "    </tr>\n",
       "    <tr>\n",
       "      <th>3</th>\n",
       "      <td>0.095855</td>\n",
       "      <td>0.441860</td>\n",
       "      <td>0.333333</td>\n",
       "      <td>0.333333</td>\n",
       "      <td>0.052863</td>\n",
       "      <td>0.0</td>\n",
       "      <td>1.0</td>\n",
       "      <td>0.0</td>\n",
       "    </tr>\n",
       "    <tr>\n",
       "      <th>4</th>\n",
       "      <td>0.116923</td>\n",
       "      <td>0.744186</td>\n",
       "      <td>0.333333</td>\n",
       "      <td>0.500000</td>\n",
       "      <td>0.145374</td>\n",
       "      <td>0.0</td>\n",
       "      <td>0.0</td>\n",
       "      <td>1.0</td>\n",
       "    </tr>\n",
       "  </tbody>\n",
       "</table>\n",
       "</div>"
      ],
      "text/plain": [
       "      price  location  bathrooms  bedrooms        m2  prop_NOTA  \\\n",
       "0  0.312398  0.569767   0.333333  0.333333  0.667401        1.0   \n",
       "1  0.283439  0.546512   0.333333  0.500000  0.432452        0.0   \n",
       "2  0.022805  0.325581   0.333333  0.333333  0.026432        0.0   \n",
       "3  0.095855  0.441860   0.333333  0.333333  0.052863        0.0   \n",
       "4  0.116923  0.744186   0.333333  0.500000  0.145374        0.0   \n",
       "\n",
       "   prop_apartment  prop_house  \n",
       "0             0.0         0.0  \n",
       "1             1.0         0.0  \n",
       "2             0.0         1.0  \n",
       "3             1.0         0.0  \n",
       "4             0.0         1.0  "
      ]
     },
     "execution_count": 77,
     "metadata": {},
     "output_type": "execute_result"
    }
   ],
   "source": [
    "df3.head()"
   ]
  },
  {
   "cell_type": "code",
   "execution_count": 78,
   "id": "ac1ebf49",
   "metadata": {},
   "outputs": [
    {
     "data": {
      "text/html": [
       "<div>\n",
       "<style scoped>\n",
       "    .dataframe tbody tr th:only-of-type {\n",
       "        vertical-align: middle;\n",
       "    }\n",
       "\n",
       "    .dataframe tbody tr th {\n",
       "        vertical-align: top;\n",
       "    }\n",
       "\n",
       "    .dataframe thead th {\n",
       "        text-align: right;\n",
       "    }\n",
       "</style>\n",
       "<table border=\"1\" class=\"dataframe\">\n",
       "  <thead>\n",
       "    <tr style=\"text-align: right;\">\n",
       "      <th></th>\n",
       "      <th>count</th>\n",
       "      <th>mean</th>\n",
       "      <th>std</th>\n",
       "      <th>min</th>\n",
       "      <th>25%</th>\n",
       "      <th>50%</th>\n",
       "      <th>75%</th>\n",
       "      <th>max</th>\n",
       "    </tr>\n",
       "  </thead>\n",
       "  <tbody>\n",
       "    <tr>\n",
       "      <th>price</th>\n",
       "      <td>898.0</td>\n",
       "      <td>0.177533</td>\n",
       "      <td>0.139209</td>\n",
       "      <td>0.0</td>\n",
       "      <td>0.089134</td>\n",
       "      <td>0.135023</td>\n",
       "      <td>0.230493</td>\n",
       "      <td>1.0</td>\n",
       "    </tr>\n",
       "    <tr>\n",
       "      <th>location</th>\n",
       "      <td>898.0</td>\n",
       "      <td>0.512133</td>\n",
       "      <td>0.314683</td>\n",
       "      <td>0.0</td>\n",
       "      <td>0.151163</td>\n",
       "      <td>0.569767</td>\n",
       "      <td>0.848837</td>\n",
       "      <td>1.0</td>\n",
       "    </tr>\n",
       "    <tr>\n",
       "      <th>bathrooms</th>\n",
       "      <td>898.0</td>\n",
       "      <td>0.406459</td>\n",
       "      <td>0.291033</td>\n",
       "      <td>0.0</td>\n",
       "      <td>0.333333</td>\n",
       "      <td>0.333333</td>\n",
       "      <td>0.666667</td>\n",
       "      <td>1.0</td>\n",
       "    </tr>\n",
       "    <tr>\n",
       "      <th>bedrooms</th>\n",
       "      <td>898.0</td>\n",
       "      <td>0.460282</td>\n",
       "      <td>0.145646</td>\n",
       "      <td>0.0</td>\n",
       "      <td>0.333333</td>\n",
       "      <td>0.500000</td>\n",
       "      <td>0.500000</td>\n",
       "      <td>1.0</td>\n",
       "    </tr>\n",
       "    <tr>\n",
       "      <th>m2</th>\n",
       "      <td>898.0</td>\n",
       "      <td>0.321831</td>\n",
       "      <td>0.193919</td>\n",
       "      <td>0.0</td>\n",
       "      <td>0.178414</td>\n",
       "      <td>0.299559</td>\n",
       "      <td>0.390602</td>\n",
       "      <td>1.0</td>\n",
       "    </tr>\n",
       "    <tr>\n",
       "      <th>prop_NOTA</th>\n",
       "      <td>898.0</td>\n",
       "      <td>0.152561</td>\n",
       "      <td>0.359764</td>\n",
       "      <td>0.0</td>\n",
       "      <td>0.000000</td>\n",
       "      <td>0.000000</td>\n",
       "      <td>0.000000</td>\n",
       "      <td>1.0</td>\n",
       "    </tr>\n",
       "    <tr>\n",
       "      <th>prop_apartment</th>\n",
       "      <td>898.0</td>\n",
       "      <td>0.359688</td>\n",
       "      <td>0.480176</td>\n",
       "      <td>0.0</td>\n",
       "      <td>0.000000</td>\n",
       "      <td>0.000000</td>\n",
       "      <td>1.000000</td>\n",
       "      <td>1.0</td>\n",
       "    </tr>\n",
       "    <tr>\n",
       "      <th>prop_house</th>\n",
       "      <td>898.0</td>\n",
       "      <td>0.487751</td>\n",
       "      <td>0.500128</td>\n",
       "      <td>0.0</td>\n",
       "      <td>0.000000</td>\n",
       "      <td>0.000000</td>\n",
       "      <td>1.000000</td>\n",
       "      <td>1.0</td>\n",
       "    </tr>\n",
       "  </tbody>\n",
       "</table>\n",
       "</div>"
      ],
      "text/plain": [
       "                count      mean       std  min       25%       50%       75%  \\\n",
       "price           898.0  0.177533  0.139209  0.0  0.089134  0.135023  0.230493   \n",
       "location        898.0  0.512133  0.314683  0.0  0.151163  0.569767  0.848837   \n",
       "bathrooms       898.0  0.406459  0.291033  0.0  0.333333  0.333333  0.666667   \n",
       "bedrooms        898.0  0.460282  0.145646  0.0  0.333333  0.500000  0.500000   \n",
       "m2              898.0  0.321831  0.193919  0.0  0.178414  0.299559  0.390602   \n",
       "prop_NOTA       898.0  0.152561  0.359764  0.0  0.000000  0.000000  0.000000   \n",
       "prop_apartment  898.0  0.359688  0.480176  0.0  0.000000  0.000000  1.000000   \n",
       "prop_house      898.0  0.487751  0.500128  0.0  0.000000  0.000000  1.000000   \n",
       "\n",
       "                max  \n",
       "price           1.0  \n",
       "location        1.0  \n",
       "bathrooms       1.0  \n",
       "bedrooms        1.0  \n",
       "m2              1.0  \n",
       "prop_NOTA       1.0  \n",
       "prop_apartment  1.0  \n",
       "prop_house      1.0  "
      ]
     },
     "execution_count": 78,
     "metadata": {},
     "output_type": "execute_result"
    }
   ],
   "source": [
    "df3.describe(include = 'all').T"
   ]
  },
  {
   "cell_type": "markdown",
   "id": "c1f022bc-1f54-4af3-a743-befa3a7b6383",
   "metadata": {},
   "source": [
    "### General distribution of the price by area and location"
   ]
  },
  {
   "cell_type": "code",
   "execution_count": 79,
   "id": "c5141a29",
   "metadata": {
    "scrolled": true,
    "tags": []
   },
   "outputs": [
    {
     "data": {
      "image/png": "[encoded data removed]",
      "text/plain": [
       "<Figure size 432x288 with 1 Axes>"
      ]
     },
     "metadata": {
      "needs_background": "light"
     },
     "output_type": "display_data"
    }
   ],
   "source": [
    "plt.style.use('tableau-colorblind10')\n",
    "sns.scatterplot(x = df3.m2, y = df3.price, hue = df3.bedrooms)\n",
    "plt.xticks(rotation = 90)\n",
    "plt.show();"
   ]
  },
  {
   "cell_type": "code",
   "execution_count": 80,
   "id": "8b60b673",
   "metadata": {},
   "outputs": [
    {
     "data": {
      "image/png": "[encoded data removed]",
      "text/plain": [
       "<Figure size 432x288 with 1 Axes>"
      ]
     },
     "metadata": {
      "needs_background": "light"
     },
     "output_type": "display_data"
    }
   ],
   "source": [
    "sns.scatterplot(x = df3.location, y = df3.price, hue = df3.bedrooms)\n",
    "plt.xticks(rotation = 90)\n",
    "plt.show();"
   ]
  },
  {
   "cell_type": "markdown",
   "id": "4b05abed",
   "metadata": {},
   "source": [
    "# Statiscal Analysis"
   ]
  },
  {
   "cell_type": "code",
   "execution_count": 81,
   "id": "ca65c76d",
   "metadata": {},
   "outputs": [
    {
     "data": {
      "image/png": "[encoded data removed]",
      "text/plain": [
       "<Figure size 432x288 with 1 Axes>"
      ]
     },
     "metadata": {
      "needs_background": "light"
     },
     "output_type": "display_data"
    }
   ],
   "source": [
    "sns.boxplot(data=df3)\n",
    "plt.xticks(rotation = 90)\n",
    "plt.show();"
   ]
  },
  {
   "cell_type": "markdown",
   "id": "1671bf4a-bde7-4218-8b6f-404011a64f19",
   "metadata": {},
   "source": [
    "### Correlation visualization of the attributes"
   ]
  },
  {
   "cell_type": "code",
   "execution_count": 82,
   "id": "b7c3ad55",
   "metadata": {},
   "outputs": [
    {
     "data": {
      "image/png": "[encoded data removed]",
      "text/plain": [
       "<Figure size 432x288 with 2 Axes>"
      ]
     },
     "metadata": {
      "needs_background": "light"
     },
     "output_type": "display_data"
    }
   ],
   "source": [
    "cmap = sns.diverging_palette(0, 255, as_cmap=True)\n",
    "sns.heatmap(df3.corr(), cmap=cmap)\n",
    "plt.show();"
   ]
  },
  {
   "cell_type": "code",
   "execution_count": 83,
   "id": "ce301bc3",
   "metadata": {},
   "outputs": [
    {
     "data": {
      "text/html": [
       "<div>\n",
       "<style scoped>\n",
       "    .dataframe tbody tr th:only-of-type {\n",
       "        vertical-align: middle;\n",
       "    }\n",
       "\n",
       "    .dataframe tbody tr th {\n",
       "        vertical-align: top;\n",
       "    }\n",
       "\n",
       "    .dataframe thead th {\n",
       "        text-align: right;\n",
       "    }\n",
       "</style>\n",
       "<table border=\"1\" class=\"dataframe\">\n",
       "  <thead>\n",
       "    <tr style=\"text-align: right;\">\n",
       "      <th></th>\n",
       "      <th>price</th>\n",
       "      <th>location</th>\n",
       "      <th>bathrooms</th>\n",
       "      <th>bedrooms</th>\n",
       "      <th>m2</th>\n",
       "      <th>prop_NOTA</th>\n",
       "      <th>prop_apartment</th>\n",
       "      <th>prop_house</th>\n",
       "    </tr>\n",
       "  </thead>\n",
       "  <tbody>\n",
       "    <tr>\n",
       "      <th>0</th>\n",
       "      <td>0.312398</td>\n",
       "      <td>0.569767</td>\n",
       "      <td>0.333333</td>\n",
       "      <td>0.333333</td>\n",
       "      <td>0.667401</td>\n",
       "      <td>1.0</td>\n",
       "      <td>0.0</td>\n",
       "      <td>0.0</td>\n",
       "    </tr>\n",
       "    <tr>\n",
       "      <th>1</th>\n",
       "      <td>0.283439</td>\n",
       "      <td>0.546512</td>\n",
       "      <td>0.333333</td>\n",
       "      <td>0.500000</td>\n",
       "      <td>0.432452</td>\n",
       "      <td>0.0</td>\n",
       "      <td>1.0</td>\n",
       "      <td>0.0</td>\n",
       "    </tr>\n",
       "    <tr>\n",
       "      <th>2</th>\n",
       "      <td>0.022805</td>\n",
       "      <td>0.325581</td>\n",
       "      <td>0.333333</td>\n",
       "      <td>0.333333</td>\n",
       "      <td>0.026432</td>\n",
       "      <td>0.0</td>\n",
       "      <td>0.0</td>\n",
       "      <td>1.0</td>\n",
       "    </tr>\n",
       "    <tr>\n",
       "      <th>3</th>\n",
       "      <td>0.095855</td>\n",
       "      <td>0.441860</td>\n",
       "      <td>0.333333</td>\n",
       "      <td>0.333333</td>\n",
       "      <td>0.052863</td>\n",
       "      <td>0.0</td>\n",
       "      <td>1.0</td>\n",
       "      <td>0.0</td>\n",
       "    </tr>\n",
       "    <tr>\n",
       "      <th>4</th>\n",
       "      <td>0.116923</td>\n",
       "      <td>0.744186</td>\n",
       "      <td>0.333333</td>\n",
       "      <td>0.500000</td>\n",
       "      <td>0.145374</td>\n",
       "      <td>0.0</td>\n",
       "      <td>0.0</td>\n",
       "      <td>1.0</td>\n",
       "    </tr>\n",
       "    <tr>\n",
       "      <th>...</th>\n",
       "      <td>...</td>\n",
       "      <td>...</td>\n",
       "      <td>...</td>\n",
       "      <td>...</td>\n",
       "      <td>...</td>\n",
       "      <td>...</td>\n",
       "      <td>...</td>\n",
       "      <td>...</td>\n",
       "    </tr>\n",
       "    <tr>\n",
       "      <th>893</th>\n",
       "      <td>0.080724</td>\n",
       "      <td>0.093023</td>\n",
       "      <td>0.333333</td>\n",
       "      <td>0.333333</td>\n",
       "      <td>0.057269</td>\n",
       "      <td>0.0</td>\n",
       "      <td>1.0</td>\n",
       "      <td>0.0</td>\n",
       "    </tr>\n",
       "    <tr>\n",
       "      <th>894</th>\n",
       "      <td>0.221719</td>\n",
       "      <td>0.093023</td>\n",
       "      <td>0.333333</td>\n",
       "      <td>0.500000</td>\n",
       "      <td>0.255507</td>\n",
       "      <td>0.0</td>\n",
       "      <td>0.0</td>\n",
       "      <td>1.0</td>\n",
       "    </tr>\n",
       "    <tr>\n",
       "      <th>895</th>\n",
       "      <td>0.221719</td>\n",
       "      <td>0.093023</td>\n",
       "      <td>0.333333</td>\n",
       "      <td>0.500000</td>\n",
       "      <td>0.255507</td>\n",
       "      <td>1.0</td>\n",
       "      <td>0.0</td>\n",
       "      <td>0.0</td>\n",
       "    </tr>\n",
       "    <tr>\n",
       "      <th>896</th>\n",
       "      <td>0.120543</td>\n",
       "      <td>0.848837</td>\n",
       "      <td>0.333333</td>\n",
       "      <td>0.500000</td>\n",
       "      <td>0.185022</td>\n",
       "      <td>0.0</td>\n",
       "      <td>0.0</td>\n",
       "      <td>1.0</td>\n",
       "    </tr>\n",
       "    <tr>\n",
       "      <th>897</th>\n",
       "      <td>0.120543</td>\n",
       "      <td>0.848837</td>\n",
       "      <td>0.333333</td>\n",
       "      <td>0.500000</td>\n",
       "      <td>0.185022</td>\n",
       "      <td>1.0</td>\n",
       "      <td>0.0</td>\n",
       "      <td>0.0</td>\n",
       "    </tr>\n",
       "  </tbody>\n",
       "</table>\n",
       "<p>898 rows × 8 columns</p>\n",
       "</div>"
      ],
      "text/plain": [
       "        price  location  bathrooms  bedrooms        m2  prop_NOTA  \\\n",
       "0    0.312398  0.569767   0.333333  0.333333  0.667401        1.0   \n",
       "1    0.283439  0.546512   0.333333  0.500000  0.432452        0.0   \n",
       "2    0.022805  0.325581   0.333333  0.333333  0.026432        0.0   \n",
       "3    0.095855  0.441860   0.333333  0.333333  0.052863        0.0   \n",
       "4    0.116923  0.744186   0.333333  0.500000  0.145374        0.0   \n",
       "..        ...       ...        ...       ...       ...        ...   \n",
       "893  0.080724  0.093023   0.333333  0.333333  0.057269        0.0   \n",
       "894  0.221719  0.093023   0.333333  0.500000  0.255507        0.0   \n",
       "895  0.221719  0.093023   0.333333  0.500000  0.255507        1.0   \n",
       "896  0.120543  0.848837   0.333333  0.500000  0.185022        0.0   \n",
       "897  0.120543  0.848837   0.333333  0.500000  0.185022        1.0   \n",
       "\n",
       "     prop_apartment  prop_house  \n",
       "0               0.0         0.0  \n",
       "1               1.0         0.0  \n",
       "2               0.0         1.0  \n",
       "3               1.0         0.0  \n",
       "4               0.0         1.0  \n",
       "..              ...         ...  \n",
       "893             1.0         0.0  \n",
       "894             0.0         1.0  \n",
       "895             0.0         0.0  \n",
       "896             0.0         1.0  \n",
       "897             0.0         0.0  \n",
       "\n",
       "[898 rows x 8 columns]"
      ]
     },
     "execution_count": 83,
     "metadata": {},
     "output_type": "execute_result"
    }
   ],
   "source": [
    "df3"
   ]
  },
  {
   "cell_type": "code",
   "execution_count": 84,
   "id": "9a1e488f-8932-4986-94d9-42ddf41729d6",
   "metadata": {},
   "outputs": [],
   "source": [
    "#WCSS is calculated for different number of clusters and plotted to apply the Elbow method.\n",
    "wcss = [] \n",
    "for i in range(1, 10): \n",
    "    kmeans_wcss = KMeans(n_clusters = i, init = 'k-means++', random_state = 42)\n",
    "    kmeans_wcss.fit(df3) \n",
    "    wcss.append(kmeans_wcss.inertia_)"
   ]
  },
  {
   "cell_type": "code",
   "execution_count": 85,
   "id": "a182e3bb-5a28-49c3-92ed-69933253ee88",
   "metadata": {
    "tags": []
   },
   "outputs": [
    {
     "data": {
      "image/png": "[encoded data removed]",
      "text/plain": [
       "<Figure size 360x288 with 1 Axes>"
      ]
     },
     "metadata": {
      "needs_background": "light"
     },
     "output_type": "display_data"
    }
   ],
   "source": [
    "plt.figure(figsize=(5,4))\n",
    "plt.plot(range(1,10),wcss,marker='o',linestyle='--')\n",
    "plt.xlabel('Number of Clusters')\n",
    "plt.ylabel('WCSS')\n",
    "plt.title('Elbow method for optimal number of clusters')\n",
    "plt.show()"
   ]
  },
  {
   "cell_type": "code",
   "execution_count": 86,
   "id": "dc82b918-7c7a-42ec-b6ad-056e013f3557",
   "metadata": {},
   "outputs": [
    {
     "name": "stdout",
     "output_type": "stream",
     "text": [
      "Number of clusters  2 Silhouetter Score: 0.464\n",
      "Number of clusters  3 Silhouetter Score: 0.589\n",
      "Number of clusters  4 Silhouetter Score: 0.467\n",
      "Number of clusters  5 Silhouetter Score: 0.368\n",
      "Number of clusters  6 Silhouetter Score: 0.380\n",
      "Number of clusters  7 Silhouetter Score: 0.388\n",
      "Number of clusters  8 Silhouetter Score: 0.356\n",
      "Number of clusters  9 Silhouetter Score: 0.364\n"
     ]
    }
   ],
   "source": [
    "#Silhouette Score is calculated for different number of clusters.\n",
    "silhouette_coefficients = []\n",
    "for i in range(2,10): \n",
    "    model_km_ss = KMeans(n_clusters=i, random_state=42)\n",
    "    # Fit the KMeans model\n",
    "    model_km_ss.fit_predict(df3)\n",
    "    # Calculate Silhoutte Score\n",
    "    score = silhouette_score(df3, model_km_ss.labels_, metric='euclidean')\n",
    "    # Print the score\n",
    "    print('Number of clusters ',i, 'Silhouetter Score: %.3f' % score)\n",
    "    silhouette_coefficients.append(score)"
   ]
  },
  {
   "cell_type": "code",
   "execution_count": 87,
   "id": "af376f89-3452-4ee8-89d3-1d1038a1d1a9",
   "metadata": {
    "scrolled": true,
    "tags": []
   },
   "outputs": [
    {
     "data": {
      "image/png": "[encoded data removed]",
      "text/plain": [
       "<Figure size 360x288 with 1 Axes>"
      ]
     },
     "metadata": {
      "needs_background": "light"
     },
     "output_type": "display_data"
    }
   ],
   "source": [
    "#Silhouette Scores are plotted against the number of clusters.\n",
    "plt.figure(figsize=(5,4))\n",
    "plt.plot(range(2,10),silhouette_coefficients,marker='o',linestyle='--')\n",
    "plt.xticks(range(2, 10))\n",
    "plt.xlabel(\"No. de Clusters\")\n",
    "plt.ylabel(\"Silhouette Coefficient\")\n",
    "plt.title('Silhouette Score Method for optimal number of clusters')\n",
    "plt.show()"
   ]
  },
  {
   "cell_type": "code",
   "execution_count": 88,
   "id": "8702e09f-3629-4d05-b198-b3ee1f7b6227",
   "metadata": {
    "tags": []
   },
   "outputs": [],
   "source": [
    "# KMeans\n",
    "model_KM = KMeans(n_clusters=3)\n",
    "model_KM.fit(df3)\n",
    "yhat_KM=model_KM.predict(df3)"
   ]
  },
  {
   "cell_type": "code",
   "execution_count": 89,
   "id": "d4bc3703-ac70-4623-b00d-f25139f49585",
   "metadata": {},
   "outputs": [
    {
     "name": "stdout",
     "output_type": "stream",
     "text": [
      "[[ 2.11569132e-01  4.50178238e-01  4.64720195e-01  4.85401460e-01\n",
      "   3.49298477e-01  1.00000000e+00  6.10622664e-16 -6.10622664e-16]\n",
      " [ 1.45554277e-01  5.50795594e-01  3.72549020e-01  3.36945304e-01\n",
      "   2.73814232e-01  4.99600361e-16  1.00000000e+00  1.16573418e-15]\n",
      " [ 1.90468874e-01  5.02999894e-01  4.13242009e-01  5.43378995e-01\n",
      "   3.48649582e-01  3.33066907e-16 -6.66133815e-16  1.00000000e+00]]\n"
     ]
    }
   ],
   "source": [
    "print(model_KM.cluster_centers_)"
   ]
  },
  {
   "cell_type": "code",
   "execution_count": 90,
   "id": "ad8ebd96-659c-484a-8e5b-794d94da4cec",
   "metadata": {},
   "outputs": [
    {
     "data": {
      "text/html": [
       "<div>\n",
       "<style scoped>\n",
       "    .dataframe tbody tr th:only-of-type {\n",
       "        vertical-align: middle;\n",
       "    }\n",
       "\n",
       "    .dataframe tbody tr th {\n",
       "        vertical-align: top;\n",
       "    }\n",
       "\n",
       "    .dataframe thead th {\n",
       "        text-align: right;\n",
       "    }\n",
       "</style>\n",
       "<table border=\"1\" class=\"dataframe\">\n",
       "  <thead>\n",
       "    <tr style=\"text-align: right;\">\n",
       "      <th></th>\n",
       "      <th>price</th>\n",
       "      <th>location</th>\n",
       "      <th>bathrooms</th>\n",
       "      <th>bedrooms</th>\n",
       "      <th>m2</th>\n",
       "      <th>prop_NOTA</th>\n",
       "      <th>prop_apartment</th>\n",
       "      <th>prop_house</th>\n",
       "      <th>Cluster</th>\n",
       "    </tr>\n",
       "  </thead>\n",
       "  <tbody>\n",
       "    <tr>\n",
       "      <th>777</th>\n",
       "      <td>7500000.0</td>\n",
       "      <td>65.0</td>\n",
       "      <td>2.0</td>\n",
       "      <td>2.0</td>\n",
       "      <td>223.666667</td>\n",
       "      <td>0.0</td>\n",
       "      <td>1.0</td>\n",
       "      <td>0.0</td>\n",
       "      <td>1</td>\n",
       "    </tr>\n",
       "    <tr>\n",
       "      <th>626</th>\n",
       "      <td>4230000.0</td>\n",
       "      <td>73.0</td>\n",
       "      <td>2.0</td>\n",
       "      <td>3.0</td>\n",
       "      <td>119.000000</td>\n",
       "      <td>0.0</td>\n",
       "      <td>0.0</td>\n",
       "      <td>1.0</td>\n",
       "      <td>2</td>\n",
       "    </tr>\n",
       "    <tr>\n",
       "      <th>336</th>\n",
       "      <td>5500000.0</td>\n",
       "      <td>73.0</td>\n",
       "      <td>2.0</td>\n",
       "      <td>3.0</td>\n",
       "      <td>144.000000</td>\n",
       "      <td>0.0</td>\n",
       "      <td>0.0</td>\n",
       "      <td>1.0</td>\n",
       "      <td>2</td>\n",
       "    </tr>\n",
       "    <tr>\n",
       "      <th>314</th>\n",
       "      <td>2975000.0</td>\n",
       "      <td>38.0</td>\n",
       "      <td>4.0</td>\n",
       "      <td>2.0</td>\n",
       "      <td>227.000000</td>\n",
       "      <td>0.0</td>\n",
       "      <td>1.0</td>\n",
       "      <td>0.0</td>\n",
       "      <td>1</td>\n",
       "    </tr>\n",
       "    <tr>\n",
       "      <th>210</th>\n",
       "      <td>2720776.0</td>\n",
       "      <td>47.0</td>\n",
       "      <td>2.0</td>\n",
       "      <td>1.0</td>\n",
       "      <td>176.333333</td>\n",
       "      <td>0.0</td>\n",
       "      <td>1.0</td>\n",
       "      <td>0.0</td>\n",
       "      <td>1</td>\n",
       "    </tr>\n",
       "    <tr>\n",
       "      <th>86</th>\n",
       "      <td>3950000.0</td>\n",
       "      <td>73.0</td>\n",
       "      <td>2.0</td>\n",
       "      <td>3.0</td>\n",
       "      <td>186.333333</td>\n",
       "      <td>0.0</td>\n",
       "      <td>0.0</td>\n",
       "      <td>1.0</td>\n",
       "      <td>2</td>\n",
       "    </tr>\n",
       "    <tr>\n",
       "      <th>705</th>\n",
       "      <td>4650000.0</td>\n",
       "      <td>73.0</td>\n",
       "      <td>2.0</td>\n",
       "      <td>3.0</td>\n",
       "      <td>120.000000</td>\n",
       "      <td>0.0</td>\n",
       "      <td>0.0</td>\n",
       "      <td>1.0</td>\n",
       "      <td>2</td>\n",
       "    </tr>\n",
       "    <tr>\n",
       "      <th>732</th>\n",
       "      <td>480000.0</td>\n",
       "      <td>85.0</td>\n",
       "      <td>2.0</td>\n",
       "      <td>3.0</td>\n",
       "      <td>120.000000</td>\n",
       "      <td>0.0</td>\n",
       "      <td>0.0</td>\n",
       "      <td>1.0</td>\n",
       "      <td>2</td>\n",
       "    </tr>\n",
       "  </tbody>\n",
       "</table>\n",
       "</div>"
      ],
      "text/plain": [
       "         price  location  bathrooms  bedrooms          m2  prop_NOTA  \\\n",
       "777  7500000.0      65.0        2.0       2.0  223.666667        0.0   \n",
       "626  4230000.0      73.0        2.0       3.0  119.000000        0.0   \n",
       "336  5500000.0      73.0        2.0       3.0  144.000000        0.0   \n",
       "314  2975000.0      38.0        4.0       2.0  227.000000        0.0   \n",
       "210  2720776.0      47.0        2.0       1.0  176.333333        0.0   \n",
       "86   3950000.0      73.0        2.0       3.0  186.333333        0.0   \n",
       "705  4650000.0      73.0        2.0       3.0  120.000000        0.0   \n",
       "732   480000.0      85.0        2.0       3.0  120.000000        0.0   \n",
       "\n",
       "     prop_apartment  prop_house  Cluster  \n",
       "777             1.0         0.0        1  \n",
       "626             0.0         1.0        2  \n",
       "336             0.0         1.0        2  \n",
       "314             1.0         0.0        1  \n",
       "210             1.0         0.0        1  \n",
       "86              0.0         1.0        2  \n",
       "705             0.0         1.0        2  \n",
       "732             0.0         1.0        2  "
      ]
     },
     "execution_count": 90,
     "metadata": {},
     "output_type": "execute_result"
    }
   ],
   "source": [
    "#The assigned cluster values are added to a new column in the main dataframe.\n",
    "#UPDF\n",
    "data_clu = pd.DataFrame(mms.inverse_transform(df3), columns = df3.columns)\n",
    "data_clu['Cluster']=yhat_KM.copy()\n",
    "data_clu.sample(8)"
   ]
  },
  {
   "cell_type": "code",
   "execution_count": 91,
   "id": "f5caa555-984d-4b99-99ea-9a9906aff807",
   "metadata": {
    "scrolled": true
   },
   "outputs": [
    {
     "data": {
      "text/html": [
       "<div>\n",
       "<style scoped>\n",
       "    .dataframe tbody tr th:only-of-type {\n",
       "        vertical-align: middle;\n",
       "    }\n",
       "\n",
       "    .dataframe tbody tr th {\n",
       "        vertical-align: top;\n",
       "    }\n",
       "\n",
       "    .dataframe thead th {\n",
       "        text-align: right;\n",
       "    }\n",
       "</style>\n",
       "<table border=\"1\" class=\"dataframe\">\n",
       "  <thead>\n",
       "    <tr style=\"text-align: right;\">\n",
       "      <th>Cluster</th>\n",
       "      <th>0</th>\n",
       "      <th>1</th>\n",
       "      <th>2</th>\n",
       "    </tr>\n",
       "  </thead>\n",
       "  <tbody>\n",
       "    <tr>\n",
       "      <th>Frecuencia</th>\n",
       "      <td>137.0</td>\n",
       "      <td>323.0</td>\n",
       "      <td>438.0</td>\n",
       "    </tr>\n",
       "    <tr>\n",
       "      <th>price</th>\n",
       "      <td>6214597.0</td>\n",
       "      <td>4390937.0</td>\n",
       "      <td>5631703.0</td>\n",
       "    </tr>\n",
       "    <tr>\n",
       "      <th>location</th>\n",
       "      <td>39.0</td>\n",
       "      <td>47.0</td>\n",
       "      <td>43.0</td>\n",
       "    </tr>\n",
       "    <tr>\n",
       "      <th>bathrooms</th>\n",
       "      <td>2.0</td>\n",
       "      <td>2.0</td>\n",
       "      <td>2.0</td>\n",
       "    </tr>\n",
       "    <tr>\n",
       "      <th>bedrooms</th>\n",
       "      <td>3.0</td>\n",
       "      <td>2.0</td>\n",
       "      <td>3.0</td>\n",
       "    </tr>\n",
       "    <tr>\n",
       "      <th>m2</th>\n",
       "      <td>203.0</td>\n",
       "      <td>168.0</td>\n",
       "      <td>202.0</td>\n",
       "    </tr>\n",
       "    <tr>\n",
       "      <th>prop_NOTA</th>\n",
       "      <td>1.0</td>\n",
       "      <td>0.0</td>\n",
       "      <td>0.0</td>\n",
       "    </tr>\n",
       "    <tr>\n",
       "      <th>prop_apartment</th>\n",
       "      <td>0.0</td>\n",
       "      <td>1.0</td>\n",
       "      <td>0.0</td>\n",
       "    </tr>\n",
       "    <tr>\n",
       "      <th>prop_house</th>\n",
       "      <td>0.0</td>\n",
       "      <td>0.0</td>\n",
       "      <td>1.0</td>\n",
       "    </tr>\n",
       "  </tbody>\n",
       "</table>\n",
       "</div>"
      ],
      "text/plain": [
       "Cluster                 0          1          2\n",
       "Frecuencia          137.0      323.0      438.0\n",
       "price           6214597.0  4390937.0  5631703.0\n",
       "location             39.0       47.0       43.0\n",
       "bathrooms             2.0        2.0        2.0\n",
       "bedrooms              3.0        2.0        3.0\n",
       "m2                  203.0      168.0      202.0\n",
       "prop_NOTA             1.0        0.0        0.0\n",
       "prop_apartment        0.0        1.0        0.0\n",
       "prop_house            0.0        0.0        1.0"
      ]
     },
     "execution_count": 91,
     "metadata": {},
     "output_type": "execute_result"
    }
   ],
   "source": [
    "#Average values of the main dataframe according to the assigned cluster\n",
    "cc=(pd.concat([data_clu.groupby(by='Cluster').size(),round(data_clu.groupby(by='Cluster').mean(), 0)],axis=1))\n",
    "cc.columns.values[0:1]='Frecuencia'\n",
    "cc.T"
   ]
  },
  {
   "cell_type": "code",
   "execution_count": 92,
   "id": "4871918a",
   "metadata": {},
   "outputs": [
    {
     "data": {
      "text/html": [
       "<div>\n",
       "<style scoped>\n",
       "    .dataframe tbody tr th:only-of-type {\n",
       "        vertical-align: middle;\n",
       "    }\n",
       "\n",
       "    .dataframe tbody tr th {\n",
       "        vertical-align: top;\n",
       "    }\n",
       "\n",
       "    .dataframe thead th {\n",
       "        text-align: right;\n",
       "    }\n",
       "</style>\n",
       "<table border=\"1\" class=\"dataframe\">\n",
       "  <thead>\n",
       "    <tr style=\"text-align: right;\">\n",
       "      <th></th>\n",
       "      <th>price</th>\n",
       "      <th>location</th>\n",
       "      <th>bathrooms</th>\n",
       "      <th>bedrooms</th>\n",
       "      <th>m2</th>\n",
       "      <th>prop_NOTA</th>\n",
       "      <th>prop_apartment</th>\n",
       "      <th>prop_house</th>\n",
       "      <th>Cluster</th>\n",
       "    </tr>\n",
       "  </thead>\n",
       "  <tbody>\n",
       "    <tr>\n",
       "      <th>0</th>\n",
       "      <td>9000000.0</td>\n",
       "      <td>49.0</td>\n",
       "      <td>2.0</td>\n",
       "      <td>2.0</td>\n",
       "      <td>347.000000</td>\n",
       "      <td>1.0</td>\n",
       "      <td>0.0</td>\n",
       "      <td>0.0</td>\n",
       "      <td>0</td>\n",
       "    </tr>\n",
       "    <tr>\n",
       "      <th>1</th>\n",
       "      <td>8200000.0</td>\n",
       "      <td>47.0</td>\n",
       "      <td>2.0</td>\n",
       "      <td>3.0</td>\n",
       "      <td>240.333333</td>\n",
       "      <td>0.0</td>\n",
       "      <td>1.0</td>\n",
       "      <td>0.0</td>\n",
       "      <td>1</td>\n",
       "    </tr>\n",
       "    <tr>\n",
       "      <th>2</th>\n",
       "      <td>1000000.0</td>\n",
       "      <td>28.0</td>\n",
       "      <td>2.0</td>\n",
       "      <td>2.0</td>\n",
       "      <td>56.000000</td>\n",
       "      <td>0.0</td>\n",
       "      <td>0.0</td>\n",
       "      <td>1.0</td>\n",
       "      <td>2</td>\n",
       "    </tr>\n",
       "    <tr>\n",
       "      <th>3</th>\n",
       "      <td>3018000.0</td>\n",
       "      <td>38.0</td>\n",
       "      <td>2.0</td>\n",
       "      <td>2.0</td>\n",
       "      <td>68.000000</td>\n",
       "      <td>0.0</td>\n",
       "      <td>1.0</td>\n",
       "      <td>0.0</td>\n",
       "      <td>1</td>\n",
       "    </tr>\n",
       "    <tr>\n",
       "      <th>4</th>\n",
       "      <td>3600000.0</td>\n",
       "      <td>64.0</td>\n",
       "      <td>2.0</td>\n",
       "      <td>3.0</td>\n",
       "      <td>110.000000</td>\n",
       "      <td>0.0</td>\n",
       "      <td>0.0</td>\n",
       "      <td>1.0</td>\n",
       "      <td>2</td>\n",
       "    </tr>\n",
       "  </tbody>\n",
       "</table>\n",
       "</div>"
      ],
      "text/plain": [
       "       price  location  bathrooms  bedrooms          m2  prop_NOTA  \\\n",
       "0  9000000.0      49.0        2.0       2.0  347.000000        1.0   \n",
       "1  8200000.0      47.0        2.0       3.0  240.333333        0.0   \n",
       "2  1000000.0      28.0        2.0       2.0   56.000000        0.0   \n",
       "3  3018000.0      38.0        2.0       2.0   68.000000        0.0   \n",
       "4  3600000.0      64.0        2.0       3.0  110.000000        0.0   \n",
       "\n",
       "   prop_apartment  prop_house  Cluster  \n",
       "0             0.0         0.0        0  \n",
       "1             1.0         0.0        1  \n",
       "2             0.0         1.0        2  \n",
       "3             1.0         0.0        1  \n",
       "4             0.0         1.0        2  "
      ]
     },
     "execution_count": 92,
     "metadata": {},
     "output_type": "execute_result"
    }
   ],
   "source": [
    "data_clu.head()"
   ]
  },
  {
   "cell_type": "code",
   "execution_count": 93,
   "id": "5b780a47-37c7-4992-aa93-3cbaed0df323",
   "metadata": {},
   "outputs": [
    {
     "data": {
      "text/html": [
       "<div>\n",
       "<style scoped>\n",
       "    .dataframe tbody tr th:only-of-type {\n",
       "        vertical-align: middle;\n",
       "    }\n",
       "\n",
       "    .dataframe tbody tr th {\n",
       "        vertical-align: top;\n",
       "    }\n",
       "\n",
       "    .dataframe thead th {\n",
       "        text-align: right;\n",
       "    }\n",
       "</style>\n",
       "<table border=\"1\" class=\"dataframe\">\n",
       "  <thead>\n",
       "    <tr style=\"text-align: right;\">\n",
       "      <th></th>\n",
       "      <th>price</th>\n",
       "      <th>location</th>\n",
       "      <th>bathrooms</th>\n",
       "      <th>bedrooms</th>\n",
       "      <th>m2</th>\n",
       "      <th>prop_NOTA</th>\n",
       "      <th>prop_apartment</th>\n",
       "      <th>prop_house</th>\n",
       "      <th>Cluster</th>\n",
       "    </tr>\n",
       "  </thead>\n",
       "  <tbody>\n",
       "    <tr>\n",
       "      <th>0</th>\n",
       "      <td>0.312398</td>\n",
       "      <td>0.569767</td>\n",
       "      <td>0.333333</td>\n",
       "      <td>0.333333</td>\n",
       "      <td>0.667401</td>\n",
       "      <td>1.0</td>\n",
       "      <td>0.0</td>\n",
       "      <td>0.0</td>\n",
       "      <td>0</td>\n",
       "    </tr>\n",
       "    <tr>\n",
       "      <th>1</th>\n",
       "      <td>0.283439</td>\n",
       "      <td>0.546512</td>\n",
       "      <td>0.333333</td>\n",
       "      <td>0.500000</td>\n",
       "      <td>0.432452</td>\n",
       "      <td>0.0</td>\n",
       "      <td>1.0</td>\n",
       "      <td>0.0</td>\n",
       "      <td>1</td>\n",
       "    </tr>\n",
       "    <tr>\n",
       "      <th>2</th>\n",
       "      <td>0.022805</td>\n",
       "      <td>0.325581</td>\n",
       "      <td>0.333333</td>\n",
       "      <td>0.333333</td>\n",
       "      <td>0.026432</td>\n",
       "      <td>0.0</td>\n",
       "      <td>0.0</td>\n",
       "      <td>1.0</td>\n",
       "      <td>2</td>\n",
       "    </tr>\n",
       "    <tr>\n",
       "      <th>3</th>\n",
       "      <td>0.095855</td>\n",
       "      <td>0.441860</td>\n",
       "      <td>0.333333</td>\n",
       "      <td>0.333333</td>\n",
       "      <td>0.052863</td>\n",
       "      <td>0.0</td>\n",
       "      <td>1.0</td>\n",
       "      <td>0.0</td>\n",
       "      <td>1</td>\n",
       "    </tr>\n",
       "  </tbody>\n",
       "</table>\n",
       "</div>"
      ],
      "text/plain": [
       "      price  location  bathrooms  bedrooms        m2  prop_NOTA  \\\n",
       "0  0.312398  0.569767   0.333333  0.333333  0.667401        1.0   \n",
       "1  0.283439  0.546512   0.333333  0.500000  0.432452        0.0   \n",
       "2  0.022805  0.325581   0.333333  0.333333  0.026432        0.0   \n",
       "3  0.095855  0.441860   0.333333  0.333333  0.052863        0.0   \n",
       "\n",
       "   prop_apartment  prop_house  Cluster  \n",
       "0             0.0         0.0        0  \n",
       "1             1.0         0.0        1  \n",
       "2             0.0         1.0        2  \n",
       "3             1.0         0.0        1  "
      ]
     },
     "execution_count": 93,
     "metadata": {},
     "output_type": "execute_result"
    }
   ],
   "source": [
    "df_clu = df3.copy()\n",
    "df_clu['Cluster'] =yhat_KM.copy()\n",
    "df_clu.head(4)"
   ]
  },
  {
   "cell_type": "code",
   "execution_count": 94,
   "id": "e6edc359-a2e3-42a8-a8e0-29c146c97a16",
   "metadata": {},
   "outputs": [],
   "source": [
    "#Grouping the data by cluster\n",
    "df_clu=df_clu.groupby('Cluster')"
   ]
  },
  {
   "cell_type": "code",
   "execution_count": 95,
   "id": "90e1b2dd-f0e9-403b-857e-86362f57e450",
   "metadata": {},
   "outputs": [],
   "source": [
    "#Function for selecting the cluster to analyze and continue working with\n",
    "def cluster_selector(value):\n",
    "    Xr = None\n",
    "    yr = None\n",
    "    \n",
    "    if value == 0:\n",
    "        Xr=df_clu.get_group(0).drop(axis=1, columns=['price']).reset_index(drop=True)\n",
    "        yr=df_clu.get_group(0)[['price']].reset_index(drop=True)\n",
    "\n",
    "    elif value == 1:\n",
    "        Xr=df_clu.get_group(1).drop(axis=1, columns=['price']).reset_index(drop=True)\n",
    "        yr=df_clu.get_group(1)[['price']].reset_index(drop=True)\n",
    "        \n",
    "\n",
    "    elif value == 2:\n",
    "        Xr=df_clu.get_group(2).drop(axis=1, columns=['price']).reset_index(drop=True)\n",
    "        yr=df_clu.get_group(2)[['price']].reset_index(drop=True)\n",
    "\n",
    "    else:\n",
    "        print(\"Invalid value. Please provide a value between 0 and 2.\")\n",
    "        return\n",
    "    \n",
    "    return Xr, yr"
   ]
  },
  {
   "cell_type": "markdown",
   "id": "598393be-046e-4c61-8d5b-b7de90792d17",
   "metadata": {},
   "source": [
    "### Select a cluster (from 0 to 2) by changing the number between parantheses"
   ]
  },
  {
   "cell_type": "code",
   "execution_count": 96,
   "id": "1054eb97-287b-4575-8f89-e2450618a8c0",
   "metadata": {},
   "outputs": [],
   "source": [
    "cs = cluster_selector(1)\n",
    "\n",
    "Xr = cs[0]\n",
    "yr = cs[1]"
   ]
  },
  {
   "cell_type": "markdown",
   "id": "99a23f97-c195-4484-b5d2-4b784e51c259",
   "metadata": {
    "tags": []
   },
   "source": [
    "## Linear Regression"
   ]
  },
  {
   "cell_type": "code",
   "execution_count": 97,
   "id": "1cdf7acc",
   "metadata": {},
   "outputs": [],
   "source": [
    "Xr_train, Xr_test, yr_train, yr_test = train_test_split(Xr, yr, test_size=0.25, random_state=1)"
   ]
  },
  {
   "cell_type": "code",
   "execution_count": 98,
   "id": "bd45c282-c3fd-4d1b-bc0c-04d263c9c74d",
   "metadata": {},
   "outputs": [
    {
     "name": "stderr",
     "output_type": "stream",
     "text": [
      "C:\\Users\\Win10\\anaconda3\\lib\\site-packages\\statsmodels\\regression\\linear_model.py:1860: RuntimeWarning: divide by zero encountered in double_scalars\n",
      "  return np.sqrt(eigvals[0]/eigvals[-1])\n"
     ]
    },
    {
     "data": {
      "text/html": [
       "<table class=\"simpletable\">\n",
       "<caption>OLS Regression Results</caption>\n",
       "<tr>\n",
       "  <th>Dep. Variable:</th>          <td>price</td>      <th>  R-squared:         </th> <td>   0.487</td>\n",
       "</tr>\n",
       "<tr>\n",
       "  <th>Model:</th>                   <td>OLS</td>       <th>  Adj. R-squared:    </th> <td>   0.479</td>\n",
       "</tr>\n",
       "<tr>\n",
       "  <th>Method:</th>             <td>Least Squares</td>  <th>  F-statistic:       </th> <td>   56.33</td>\n",
       "</tr>\n",
       "<tr>\n",
       "  <th>Date:</th>             <td>Wed, 21 Jun 2023</td> <th>  Prob (F-statistic):</th> <td>2.39e-33</td>\n",
       "</tr>\n",
       "<tr>\n",
       "  <th>Time:</th>                 <td>19:12:24</td>     <th>  Log-Likelihood:    </th> <td>  298.92</td>\n",
       "</tr>\n",
       "<tr>\n",
       "  <th>No. Observations:</th>      <td>   242</td>      <th>  AIC:               </th> <td>  -587.8</td>\n",
       "</tr>\n",
       "<tr>\n",
       "  <th>Df Residuals:</th>          <td>   237</td>      <th>  BIC:               </th> <td>  -570.4</td>\n",
       "</tr>\n",
       "<tr>\n",
       "  <th>Df Model:</th>              <td>     4</td>      <th>                     </th>     <td> </td>   \n",
       "</tr>\n",
       "<tr>\n",
       "  <th>Covariance Type:</th>      <td>nonrobust</td>    <th>                     </th>     <td> </td>   \n",
       "</tr>\n",
       "</table>\n",
       "<table class=\"simpletable\">\n",
       "<tr>\n",
       "         <td></td>           <th>coef</th>     <th>std err</th>      <th>t</th>      <th>P>|t|</th>  <th>[0.025</th>    <th>0.975]</th>  \n",
       "</tr>\n",
       "<tr>\n",
       "  <th>location</th>       <td>    0.0244</td> <td>    0.016</td> <td>    1.564</td> <td> 0.119</td> <td>   -0.006</td> <td>    0.055</td>\n",
       "</tr>\n",
       "<tr>\n",
       "  <th>bathrooms</th>      <td>   -0.0161</td> <td>    0.017</td> <td>   -0.974</td> <td> 0.331</td> <td>   -0.049</td> <td>    0.016</td>\n",
       "</tr>\n",
       "<tr>\n",
       "  <th>bedrooms</th>       <td>    0.5048</td> <td>    0.056</td> <td>    8.976</td> <td> 0.000</td> <td>    0.394</td> <td>    0.616</td>\n",
       "</tr>\n",
       "<tr>\n",
       "  <th>m2</th>             <td>    0.2642</td> <td>    0.033</td> <td>    8.048</td> <td> 0.000</td> <td>    0.200</td> <td>    0.329</td>\n",
       "</tr>\n",
       "<tr>\n",
       "  <th>prop_NOTA</th>      <td> 1.061e-16</td> <td>  1.3e-17</td> <td>    8.142</td> <td> 0.000</td> <td> 8.04e-17</td> <td> 1.32e-16</td>\n",
       "</tr>\n",
       "<tr>\n",
       "  <th>prop_apartment</th> <td>   -0.0541</td> <td>    0.010</td> <td>   -5.293</td> <td> 0.000</td> <td>   -0.074</td> <td>   -0.034</td>\n",
       "</tr>\n",
       "<tr>\n",
       "  <th>prop_house</th>     <td>         0</td> <td>        0</td> <td>      nan</td> <td>   nan</td> <td>        0</td> <td>        0</td>\n",
       "</tr>\n",
       "<tr>\n",
       "  <th>Cluster</th>        <td>   -0.0541</td> <td>    0.010</td> <td>   -5.293</td> <td> 0.000</td> <td>   -0.074</td> <td>   -0.034</td>\n",
       "</tr>\n",
       "</table>\n",
       "<table class=\"simpletable\">\n",
       "<tr>\n",
       "  <th>Omnibus:</th>       <td>119.393</td> <th>  Durbin-Watson:     </th> <td>   1.866</td> \n",
       "</tr>\n",
       "<tr>\n",
       "  <th>Prob(Omnibus):</th> <td> 0.000</td>  <th>  Jarque-Bera (JB):  </th> <td> 870.337</td> \n",
       "</tr>\n",
       "<tr>\n",
       "  <th>Skew:</th>          <td> 1.806</td>  <th>  Prob(JB):          </th> <td>1.02e-189</td>\n",
       "</tr>\n",
       "<tr>\n",
       "  <th>Kurtosis:</th>      <td>11.560</td>  <th>  Cond. No.          </th> <td>     inf</td> \n",
       "</tr>\n",
       "</table><br/><br/>Notes:<br/>[1] Standard Errors assume that the covariance matrix of the errors is correctly specified.<br/>[2] The smallest eigenvalue is      0. This might indicate that there are<br/>strong multicollinearity problems or that the design matrix is singular."
      ],
      "text/plain": [
       "<class 'statsmodels.iolib.summary.Summary'>\n",
       "\"\"\"\n",
       "                            OLS Regression Results                            \n",
       "==============================================================================\n",
       "Dep. Variable:                  price   R-squared:                       0.487\n",
       "Model:                            OLS   Adj. R-squared:                  0.479\n",
       "Method:                 Least Squares   F-statistic:                     56.33\n",
       "Date:                Wed, 21 Jun 2023   Prob (F-statistic):           2.39e-33\n",
       "Time:                        19:12:24   Log-Likelihood:                 298.92\n",
       "No. Observations:                 242   AIC:                            -587.8\n",
       "Df Residuals:                     237   BIC:                            -570.4\n",
       "Df Model:                           4                                         \n",
       "Covariance Type:            nonrobust                                         \n",
       "==================================================================================\n",
       "                     coef    std err          t      P>|t|      [0.025      0.975]\n",
       "----------------------------------------------------------------------------------\n",
       "location           0.0244      0.016      1.564      0.119      -0.006       0.055\n",
       "bathrooms         -0.0161      0.017     -0.974      0.331      -0.049       0.016\n",
       "bedrooms           0.5048      0.056      8.976      0.000       0.394       0.616\n",
       "m2                 0.2642      0.033      8.048      0.000       0.200       0.329\n",
       "prop_NOTA       1.061e-16    1.3e-17      8.142      0.000    8.04e-17    1.32e-16\n",
       "prop_apartment    -0.0541      0.010     -5.293      0.000      -0.074      -0.034\n",
       "prop_house              0          0        nan        nan           0           0\n",
       "Cluster           -0.0541      0.010     -5.293      0.000      -0.074      -0.034\n",
       "==============================================================================\n",
       "Omnibus:                      119.393   Durbin-Watson:                   1.866\n",
       "Prob(Omnibus):                  0.000   Jarque-Bera (JB):              870.337\n",
       "Skew:                           1.806   Prob(JB):                    1.02e-189\n",
       "Kurtosis:                      11.560   Cond. No.                          inf\n",
       "==============================================================================\n",
       "\n",
       "Notes:\n",
       "[1] Standard Errors assume that the covariance matrix of the errors is correctly specified.\n",
       "[2] The smallest eigenvalue is      0. This might indicate that there are\n",
       "strong multicollinearity problems or that the design matrix is singular.\n",
       "\"\"\""
      ]
     },
     "execution_count": 98,
     "metadata": {},
     "output_type": "execute_result"
    }
   ],
   "source": [
    "Xr_train = sm.add_constant(Xr_train, prepend=True)\n",
    "Xr_test = sm.add_constant(Xr_test, prepend=True)\n",
    "modelo_ols = sm.OLS(endog=yr_train, exog=Xr_train)\n",
    "modelo_ols = modelo_ols.fit()\n",
    "(modelo_ols.summary())"
   ]
  },
  {
   "cell_type": "code",
   "execution_count": 101,
   "id": "016c33ec-8615-4437-a048-ac6ec11e24de",
   "metadata": {},
   "outputs": [
    {
     "data": {
      "text/plain": [
       "[('Lagrange multiplier statistics', 39.81688112701768),\n",
       " ('P value', 1.364550318142702e-06),\n",
       " ('F value', 11.66838369061805),\n",
       " ('p f value', 1.1490565665268243e-08)]"
      ]
     },
     "execution_count": 101,
     "metadata": {},
     "output_type": "execute_result"
    }
   ],
   "source": [
    "# Bresuch-Pagan test\n",
    "names = ['Lagrange multiplier statistics', 'P value',\n",
    "        'F value', 'p f value']\n",
    "test = sms.het_breuschpagan (modelo_ols.resid, modelo_ols.model.exog)\n",
    "\n",
    "lzip (names, test)"
   ]
  },
  {
   "cell_type": "code",
   "execution_count": 102,
   "id": "11f903a5",
   "metadata": {},
   "outputs": [
    {
     "data": {
      "text/html": [
       "<div>\n",
       "<style scoped>\n",
       "    .dataframe tbody tr th:only-of-type {\n",
       "        vertical-align: middle;\n",
       "    }\n",
       "\n",
       "    .dataframe tbody tr th {\n",
       "        vertical-align: top;\n",
       "    }\n",
       "\n",
       "    .dataframe thead th {\n",
       "        text-align: right;\n",
       "    }\n",
       "</style>\n",
       "<table border=\"1\" class=\"dataframe\">\n",
       "  <thead>\n",
       "    <tr style=\"text-align: right;\">\n",
       "      <th></th>\n",
       "      <th>2.5%</th>\n",
       "      <th>97.5%</th>\n",
       "    </tr>\n",
       "  </thead>\n",
       "  <tbody>\n",
       "    <tr>\n",
       "      <th>location</th>\n",
       "      <td>-6.321098e-03</td>\n",
       "      <td>5.508194e-02</td>\n",
       "    </tr>\n",
       "    <tr>\n",
       "      <th>bathrooms</th>\n",
       "      <td>-4.873076e-02</td>\n",
       "      <td>1.648722e-02</td>\n",
       "    </tr>\n",
       "    <tr>\n",
       "      <th>bedrooms</th>\n",
       "      <td>3.939920e-01</td>\n",
       "      <td>6.155536e-01</td>\n",
       "    </tr>\n",
       "    <tr>\n",
       "      <th>m2</th>\n",
       "      <td>1.995376e-01</td>\n",
       "      <td>3.288970e-01</td>\n",
       "    </tr>\n",
       "    <tr>\n",
       "      <th>prop_NOTA</th>\n",
       "      <td>8.039758e-17</td>\n",
       "      <td>1.317232e-16</td>\n",
       "    </tr>\n",
       "    <tr>\n",
       "      <th>prop_apartment</th>\n",
       "      <td>-7.425960e-02</td>\n",
       "      <td>-3.397292e-02</td>\n",
       "    </tr>\n",
       "    <tr>\n",
       "      <th>prop_house</th>\n",
       "      <td>0.000000e+00</td>\n",
       "      <td>0.000000e+00</td>\n",
       "    </tr>\n",
       "    <tr>\n",
       "      <th>Cluster</th>\n",
       "      <td>-7.425960e-02</td>\n",
       "      <td>-3.397292e-02</td>\n",
       "    </tr>\n",
       "  </tbody>\n",
       "</table>\n",
       "</div>"
      ],
      "text/plain": [
       "                        2.5%         97.5%\n",
       "location       -6.321098e-03  5.508194e-02\n",
       "bathrooms      -4.873076e-02  1.648722e-02\n",
       "bedrooms        3.939920e-01  6.155536e-01\n",
       "m2              1.995376e-01  3.288970e-01\n",
       "prop_NOTA       8.039758e-17  1.317232e-16\n",
       "prop_apartment -7.425960e-02 -3.397292e-02\n",
       "prop_house      0.000000e+00  0.000000e+00\n",
       "Cluster        -7.425960e-02 -3.397292e-02"
      ]
     },
     "execution_count": 102,
     "metadata": {},
     "output_type": "execute_result"
    }
   ],
   "source": [
    "# Confidence intervals for the coefficients of the model\n",
    "ci_intervals = modelo_ols.conf_int(alpha=0.05)\n",
    "ci_intervals.columns = ['2.5%', '97.5%']\n",
    "ci_intervals"
   ]
  },
  {
   "cell_type": "code",
   "execution_count": 103,
   "id": "bf987aab",
   "metadata": {},
   "outputs": [],
   "source": [
    "# Diagnostic errors (residuals) of training predictions\n",
    "yr_rl_pred_train = modelo_ols.predict(exog = Xr_train)\n",
    "yr_rl_pred_test = modelo_ols.predict(exog = Xr_test)\n",
    "residuos_train = yr_rl_pred_train.to_numpy().flatten() - yr_train.to_numpy().flatten() "
   ]
  },
  {
   "cell_type": "code",
   "execution_count": 104,
   "id": "92aca7f8",
   "metadata": {},
   "outputs": [
    {
     "data": {
      "image/png": "[encoded data removed]",
      "text/plain": [
       "<Figure size 648x576 with 5 Axes>"
      ]
     },
     "metadata": {
      "needs_background": "light"
     },
     "output_type": "display_data"
    }
   ],
   "source": [
    "# Graphics\n",
    "fig, axes = plt.subplots(nrows=3, ncols=2, figsize=(9, 8))\n",
    "\n",
    "axes[0, 0].scatter(yr_train, yr_rl_pred_train, edgecolors=(0, 0, 0), alpha = 0.4)\n",
    "axes[0, 0].plot([yr_train.min(), yr_train.max()], [yr_train.min(), yr_train.max()],\n",
    "                'k--', color = 'black', lw=2)\n",
    "axes[0, 0].set_title('Prediction vs Real', fontsize = 10, fontweight = \"bold\")\n",
    "axes[0, 0].set_xlabel('Real')\n",
    "axes[0, 0].set_ylabel('Prediction')\n",
    "axes[0, 0].tick_params(labelsize = 7)\n",
    "\n",
    "axes[0, 1].scatter(list(range(len(yr_train))), residuos_train,\n",
    "                   edgecolors=(0, 0, 0), alpha = 0.4)\n",
    "axes[0, 1].axhline(y = 0, linestyle = '--', color = 'black', lw=2)\n",
    "axes[0, 1].set_title('Model residues', fontsize = 10, fontweight = \"bold\")\n",
    "axes[0, 1].set_xlabel('id')\n",
    "axes[0, 1].set_ylabel('Residue')\n",
    "axes[0, 1].tick_params(labelsize = 7)\n",
    "\n",
    "sns.histplot(\n",
    "    data    = residuos_train,\n",
    "    stat    = \"density\",\n",
    "    kde     = True,\n",
    "    line_kws= {'linewidth': 1},\n",
    "    color   = \"firebrick\",\n",
    "    alpha   = 0.3,\n",
    "    ax      = axes[1, 0]\n",
    ")\n",
    "\n",
    "axes[1, 0].set_title('Model residues distribution', fontsize = 10,\n",
    "                     fontweight = \"bold\")\n",
    "axes[1, 0].set_xlabel(\"Residue\")\n",
    "axes[1, 0].tick_params(labelsize = 7)\n",
    "\n",
    "\n",
    "sm.qqplot(\n",
    "    residuos_train,\n",
    "    fit   = True,\n",
    "    line  = 'q',\n",
    "    ax    = axes[1, 1], \n",
    "    color = 'firebrick',\n",
    "    alpha = 0.4,\n",
    "    lw    = 2\n",
    ")\n",
    "axes[1, 1].set_title('Q-Q model residues', fontsize = 10, fontweight = \"bold\")\n",
    "axes[1, 1].tick_params(labelsize = 7)\n",
    "\n",
    "axes[2, 0].scatter(yr_rl_pred_train, residuos_train,\n",
    "                   edgecolors=(0, 0, 0), alpha = 0.4)\n",
    "axes[2, 0].axhline(y = 0, linestyle = '--', color = 'black', lw=2)\n",
    "axes[2, 0].set_title('Model residues vs prediction', fontsize = 10, fontweight = \"bold\")\n",
    "axes[2, 0].set_xlabel('Prediction')\n",
    "axes[2, 0].set_ylabel('Residue')\n",
    "axes[2, 0].tick_params(labelsize = 7)\n",
    "\n",
    "\n",
    "fig.delaxes(axes[2,1])\n",
    "\n",
    "fig.tight_layout()\n",
    "plt.subplots_adjust(top=0.9)\n",
    "fig.suptitle('Residues diagnostic', fontsize = 12, fontweight = \"bold\");"
   ]
  },
  {
   "cell_type": "code",
   "execution_count": 105,
   "id": "d5466652-37dd-4481-82d1-5780d8c94d00",
   "metadata": {
    "scrolled": true
   },
   "outputs": [
    {
     "data": {
      "image/png": "[encoded data removed]",
      "text/plain": [
       "<Figure size 432x288 with 1 Axes>"
      ]
     },
     "metadata": {
      "needs_background": "light"
     },
     "output_type": "display_data"
    }
   ],
   "source": [
    "#Predictions are plotted using the training and test input data.\n",
    "plt.scatter(yr_train, yr_rl_pred_train,color=\"b\", label='Train')\n",
    "plt.scatter(yr_test, yr_rl_pred_test,color=\"k\", label='Test')\n",
    "plt.xlabel('Reals')\n",
    "plt.ylabel('Predictions')\n",
    "plt.axis('equal')\n",
    "plt.axis('square')\n",
    "plt.legend(loc=\"upper left\")\n",
    "plt.title(\"Linear Regression\")\n",
    "plt.xlim([0,plt.xlim()[1]])\n",
    "plt.ylim([0,plt.ylim()[1]])\n",
    "_ = plt.plot([-100, 100], [-100, 100])"
   ]
  },
  {
   "cell_type": "code",
   "execution_count": 106,
   "id": "119bf4d2",
   "metadata": {},
   "outputs": [
    {
     "name": "stdout",
     "output_type": "stream",
     "text": [
      "Train MSE:  0.004950370237361087\n",
      "Test MSE:  0.006835137389555048\n",
      "Test R^2:  0.4873889854723642\n",
      "Test R^2:  0.4810559185406622\n"
     ]
    }
   ],
   "source": [
    "# Finally, we calculate the mean square error and the R^2 statistic.\n",
    "print ('Train MSE: ', mean_squared_error(yr_train, yr_rl_pred_train))\n",
    "print ('Test MSE: ', mean_squared_error(yr_test, yr_rl_pred_test))\n",
    "print ('Test R^2: ', r2_score(yr_train, yr_rl_pred_train))\n",
    "print ('Test R^2: ', r2_score(yr_test, yr_rl_pred_test))"
   ]
  },
  {
   "cell_type": "markdown",
   "id": "09fa0df5-fd0a-4a27-8adc-f4bce072acb5",
   "metadata": {},
   "source": [
    "## Neural Network Regression"
   ]
  },
  {
   "cell_type": "code",
   "execution_count": 107,
   "id": "c0a2270a-0dbd-4f49-8009-3f2db5c2746d",
   "metadata": {},
   "outputs": [
    {
     "name": "stdout",
     "output_type": "stream",
     "text": [
      "2.9.1\n"
     ]
    }
   ],
   "source": [
    "# Importing libraries\n",
    "import tensorflow as tf\n",
    "from tensorflow import keras\n",
    "from keras.models import Sequential\n",
    "from keras.layers import Dense\n",
    "print(tf.__version__)"
   ]
  },
  {
   "cell_type": "code",
   "execution_count": 108,
   "id": "3673604a-7cf3-4e83-ad09-867107b12936",
   "metadata": {},
   "outputs": [],
   "source": [
    "#The model is defined and compiled with two intermediate layers\n",
    "model_rrn = Sequential([\n",
    "Dense(64, activation='relu', input_shape=[Xr_train.shape[1]]),\n",
    "Dense(128, activation='relu'),\n",
    "Dense(64, activation='relu'),\n",
    "Dense(1)\n",
    "])\n",
    "\n",
    "model_rrn.compile(loss='mse',\n",
    "                  optimizer='adam',\n",
    "                  metrics=['mae','mse'])"
   ]
  },
  {
   "cell_type": "code",
   "execution_count": 109,
   "id": "5cce957b-4abc-44ad-adce-2d00816006b6",
   "metadata": {
    "scrolled": true
   },
   "outputs": [
    {
     "name": "stdout",
     "output_type": "stream",
     "text": [
      "Model: \"sequential\"\n",
      "_________________________________________________________________\n",
      " Layer (type)                Output Shape              Param #   \n",
      "=================================================================\n",
      " dense (Dense)               (None, 64)                576       \n",
      "                                                                 \n",
      " dense_1 (Dense)             (None, 128)               8320      \n",
      "                                                                 \n",
      " dense_2 (Dense)             (None, 64)                8256      \n",
      "                                                                 \n",
      " dense_3 (Dense)             (None, 1)                 65        \n",
      "                                                                 \n",
      "=================================================================\n",
      "Total params: 17,217\n",
      "Trainable params: 17,217\n",
      "Non-trainable params: 0\n",
      "_________________________________________________________________\n"
     ]
    }
   ],
   "source": [
    "#The summary of the model is shown\n",
    "model_rrn.summary()"
   ]
  },
  {
   "cell_type": "code",
   "execution_count": 110,
   "id": "b2bade8f-aed7-4275-8e8c-eb49c807995b",
   "metadata": {},
   "outputs": [
    {
     "name": "stdout",
     "output_type": "stream",
     "text": [
      "\n",
      ".................................................."
     ]
    }
   ],
   "source": [
    "# A function is defined that displays the training process by printing a dot after each completed epoch.\n",
    "class PrintDot(keras.callbacks.Callback):\n",
    "  def on_epoch_end(self, epoch, logs):\n",
    "    if epoch % 100 == 0: print('')\n",
    "    print('.', end='')\n",
    "\n",
    "#The model is trained on a variable for later use.\n",
    "history = model_rrn.fit(Xr_train, yr_train, epochs=50, validation_split = 0.2, verbose=0, callbacks=[PrintDot()])"
   ]
  },
  {
   "cell_type": "code",
   "execution_count": 111,
   "id": "90233a74-68c9-416a-ad3e-28b8fac4dcd8",
   "metadata": {
    "scrolled": true,
    "tags": []
   },
   "outputs": [
    {
     "data": {
      "text/html": [
       "<div>\n",
       "<style scoped>\n",
       "    .dataframe tbody tr th:only-of-type {\n",
       "        vertical-align: middle;\n",
       "    }\n",
       "\n",
       "    .dataframe tbody tr th {\n",
       "        vertical-align: top;\n",
       "    }\n",
       "\n",
       "    .dataframe thead th {\n",
       "        text-align: right;\n",
       "    }\n",
       "</style>\n",
       "<table border=\"1\" class=\"dataframe\">\n",
       "  <thead>\n",
       "    <tr style=\"text-align: right;\">\n",
       "      <th></th>\n",
       "      <th>loss</th>\n",
       "      <th>mae</th>\n",
       "      <th>mse</th>\n",
       "      <th>val_loss</th>\n",
       "      <th>val_mae</th>\n",
       "      <th>val_mse</th>\n",
       "      <th>epoch</th>\n",
       "    </tr>\n",
       "  </thead>\n",
       "  <tbody>\n",
       "    <tr>\n",
       "      <th>45</th>\n",
       "      <td>0.003281</td>\n",
       "      <td>0.040063</td>\n",
       "      <td>0.003281</td>\n",
       "      <td>0.005992</td>\n",
       "      <td>0.047017</td>\n",
       "      <td>0.005992</td>\n",
       "      <td>45</td>\n",
       "    </tr>\n",
       "    <tr>\n",
       "      <th>46</th>\n",
       "      <td>0.003435</td>\n",
       "      <td>0.040754</td>\n",
       "      <td>0.003435</td>\n",
       "      <td>0.006138</td>\n",
       "      <td>0.051558</td>\n",
       "      <td>0.006138</td>\n",
       "      <td>46</td>\n",
       "    </tr>\n",
       "    <tr>\n",
       "      <th>47</th>\n",
       "      <td>0.003502</td>\n",
       "      <td>0.048141</td>\n",
       "      <td>0.003502</td>\n",
       "      <td>0.006318</td>\n",
       "      <td>0.051985</td>\n",
       "      <td>0.006318</td>\n",
       "      <td>47</td>\n",
       "    </tr>\n",
       "    <tr>\n",
       "      <th>48</th>\n",
       "      <td>0.003272</td>\n",
       "      <td>0.040740</td>\n",
       "      <td>0.003272</td>\n",
       "      <td>0.006398</td>\n",
       "      <td>0.048945</td>\n",
       "      <td>0.006398</td>\n",
       "      <td>48</td>\n",
       "    </tr>\n",
       "    <tr>\n",
       "      <th>49</th>\n",
       "      <td>0.003332</td>\n",
       "      <td>0.039861</td>\n",
       "      <td>0.003332</td>\n",
       "      <td>0.006596</td>\n",
       "      <td>0.052173</td>\n",
       "      <td>0.006596</td>\n",
       "      <td>49</td>\n",
       "    </tr>\n",
       "  </tbody>\n",
       "</table>\n",
       "</div>"
      ],
      "text/plain": [
       "        loss       mae       mse  val_loss   val_mae   val_mse  epoch\n",
       "45  0.003281  0.040063  0.003281  0.005992  0.047017  0.005992     45\n",
       "46  0.003435  0.040754  0.003435  0.006138  0.051558  0.006138     46\n",
       "47  0.003502  0.048141  0.003502  0.006318  0.051985  0.006318     47\n",
       "48  0.003272  0.040740  0.003272  0.006398  0.048945  0.006398     48\n",
       "49  0.003332  0.039861  0.003332  0.006596  0.052173  0.006596     49"
      ]
     },
     "execution_count": 111,
     "metadata": {},
     "output_type": "execute_result"
    }
   ],
   "source": [
    "#The values of the metrics for each epoch of the model training are obtained and the latest values are shown.\n",
    "hist = pd.DataFrame(history.history)\n",
    "hist['epoch'] = history.epoch\n",
    "hist.tail(5)"
   ]
  },
  {
   "cell_type": "code",
   "execution_count": 112,
   "id": "6cda8fd1-83f5-4ccc-b39b-87c6b638b5ea",
   "metadata": {},
   "outputs": [
    {
     "data": {
      "image/png": "[encoded data removed]",
      "text/plain": [
       "<Figure size 432x288 with 1 Axes>"
      ]
     },
     "metadata": {
      "needs_background": "light"
     },
     "output_type": "display_data"
    },
    {
     "data": {
      "image/png": "[encoded data removed]",
      "text/plain": [
       "<Figure size 432x288 with 1 Axes>"
      ]
     },
     "metadata": {
      "needs_background": "light"
     },
     "output_type": "display_data"
    }
   ],
   "source": [
    "#A function is defined and the metrics are passed to be plotted to observe its evolution with each epoch.\n",
    "def plot_history(history):\n",
    "\n",
    "  plt.figure()\n",
    "  plt.xlabel('Epoch')\n",
    "  plt.ylabel('MAE [actual_price]')\n",
    "  plt.plot(hist['epoch'], hist['mae'],\n",
    "           label='Train Error')\n",
    "  plt.plot(hist['epoch'], hist['val_mae'],\n",
    "           label = 'Val Error')\n",
    "  plt.ylim([0,0.5])\n",
    "  plt.legend()\n",
    "\n",
    "  plt.figure()\n",
    "  plt.xlabel('Epoch')\n",
    "  plt.ylabel('MSE [actual_price$^2$]')\n",
    "  plt.plot(hist['epoch'], hist['mse'],\n",
    "           label='Train Error')\n",
    "  plt.plot(hist['epoch'], hist['val_mse'],\n",
    "           label = 'Val Error')\n",
    "  plt.ylim([0,0.5])\n",
    "  plt.legend()\n",
    "  plt.show()\n",
    "\n",
    "#The function is called on the model\n",
    "plot_history(history)"
   ]
  },
  {
   "cell_type": "code",
   "execution_count": 113,
   "id": "7bc8d9c4-6125-410c-b486-6c449bb87fca",
   "metadata": {},
   "outputs": [
    {
     "name": "stdout",
     "output_type": "stream",
     "text": [
      "8/8 - 0s - loss: 0.0037 - mae: 0.0425 - mse: 0.0037 - 45ms/epoch - 6ms/step\n",
      "Train error Neural Network (MSE): 0.0037 price\n",
      "3/3 - 0s - loss: 0.0066 - mae: 0.0599 - mse: 0.0066 - 38ms/epoch - 13ms/step\n",
      "Test error Neural Network (MSE): 0.0066 price\n"
     ]
    }
   ],
   "source": [
    "#Metrics are extracted by equating the model with the test training sets and the metric of interest is printed.\n",
    "loss, mae, mse_rrn_train = model_rrn.evaluate(Xr_train, yr_train, verbose=2)\n",
    "print('Train error Neural Network (MSE): {:5.4f} price'.format(mse_rrn_train))\n",
    "\n",
    "loss, mae, mse_rrn_test = model_rrn.evaluate(Xr_test, yr_test, verbose=2)\n",
    "print(\"Test error Neural Network (MSE): {:5.4f} price\".format(mse_rrn_test))"
   ]
  },
  {
   "cell_type": "code",
   "execution_count": 114,
   "id": "9f043ca1-c507-4db3-abfc-a6c0d424bf0d",
   "metadata": {},
   "outputs": [
    {
     "name": "stdout",
     "output_type": "stream",
     "text": [
      "8/8 [==============================] - 0s 3ms/step\n",
      "3/3 [==============================] - 0s 4ms/step\n"
     ]
    },
    {
     "data": {
      "image/png": "[encoded data removed]",
      "text/plain": [
       "<Figure size 432x288 with 1 Axes>"
      ]
     },
     "metadata": {
      "needs_background": "light"
     },
     "output_type": "display_data"
    }
   ],
   "source": [
    "#Predictions are calculated and plotted using the training and test input data.\n",
    "yr_rn_pred_train = model_rrn.predict(Xr_train)\n",
    "yr_rn_pred_test = pd.DataFrame(model_rrn.predict(Xr_test))\n",
    "plt.scatter(yr_train, yr_rn_pred_train, label='Train')\n",
    "plt.scatter(yr_test, yr_rn_pred_test, label='Test')\n",
    "plt.xlabel('Reals')\n",
    "plt.ylabel('Predictions')\n",
    "plt.axis('equal')\n",
    "plt.axis('square')\n",
    "plt.legend(loc = \"upper left\")\n",
    "plt.title(\"Neural Network Regression\")\n",
    "plt.xlim([0,plt.xlim()[1]])\n",
    "plt.ylim([0,plt.ylim()[1]])\n",
    "_ = plt.plot([-100, 100], [-100, 100])"
   ]
  },
  {
   "cell_type": "code",
   "execution_count": 115,
   "id": "f654013a",
   "metadata": {},
   "outputs": [
    {
     "name": "stdout",
     "output_type": "stream",
     "text": [
      "Train MSE:  0.0036993142578210466\n",
      "Test MSE:  0.006555469788721401\n",
      "Train R^2:  0.6169358767458437\n",
      "Test R^2:  0.5022891195660482\n"
     ]
    }
   ],
   "source": [
    "# Finally, we calculate the mean square error and the R^2 statistic.\n",
    "print ('Train MSE: ', mean_squared_error(yr_train, yr_rn_pred_train))\n",
    "print ('Test MSE: ', mean_squared_error(yr_test, yr_rn_pred_test))\n",
    "print ('Train R^2: ', r2_score(yr_train, yr_rn_pred_train))\n",
    "print ('Test R^2: ', r2_score(yr_test, yr_rn_pred_test))"
   ]
  },
  {
   "cell_type": "markdown",
   "id": "347228db-942b-46ad-98e5-85a2ad499e3d",
   "metadata": {},
   "source": [
    "## Comparative evaluation"
   ]
  },
  {
   "cell_type": "code",
   "execution_count": 116,
   "id": "991cc511-36a6-4bcd-89da-623cfeb5bdae",
   "metadata": {
    "scrolled": true
   },
   "outputs": [
    {
     "data": {
      "text/html": [
       "<div>\n",
       "<style scoped>\n",
       "    .dataframe tbody tr th:only-of-type {\n",
       "        vertical-align: middle;\n",
       "    }\n",
       "\n",
       "    .dataframe tbody tr th {\n",
       "        vertical-align: top;\n",
       "    }\n",
       "\n",
       "    .dataframe thead th {\n",
       "        text-align: right;\n",
       "    }\n",
       "</style>\n",
       "<table border=\"1\" class=\"dataframe\">\n",
       "  <thead>\n",
       "    <tr style=\"text-align: right;\">\n",
       "      <th></th>\n",
       "      <th>Linear Regression MSE</th>\n",
       "      <th>NN Regression MSE</th>\n",
       "    </tr>\n",
       "  </thead>\n",
       "  <tbody>\n",
       "    <tr>\n",
       "      <th>0</th>\n",
       "      <td>0.006835</td>\n",
       "      <td>0.006555</td>\n",
       "    </tr>\n",
       "  </tbody>\n",
       "</table>\n",
       "</div>"
      ],
      "text/plain": [
       "   Linear Regression MSE  NN Regression MSE\n",
       "0               0.006835           0.006555"
      ]
     },
     "execution_count": 116,
     "metadata": {},
     "output_type": "execute_result"
    }
   ],
   "source": [
    "#A comparative table with the error values of the models from the test data is shown.\n",
    "df_regr=pd.DataFrame({'Linear Regression MSE':[mean_squared_error(yr_test, yr_rl_pred_test)],'NN Regression MSE':[mean_squared_error(yr_test, yr_rn_pred_test)]})\n",
    "df_regr"
   ]
  },
  {
   "cell_type": "code",
   "execution_count": 117,
   "id": "7d8c6919",
   "metadata": {},
   "outputs": [],
   "source": [
    "Xr_test.reset_index(drop = True, inplace = True)\n",
    "yr_test.reset_index(drop = True, inplace = True)\n",
    "yr_rl_pred_test.reset_index(drop = True, inplace = True)"
   ]
  },
  {
   "cell_type": "code",
   "execution_count": 118,
   "id": "a728f70f-1b79-4bcb-ba54-9eb6183cd75c",
   "metadata": {},
   "outputs": [
    {
     "data": {
      "text/html": [
       "<div>\n",
       "<style scoped>\n",
       "    .dataframe tbody tr th:only-of-type {\n",
       "        vertical-align: middle;\n",
       "    }\n",
       "\n",
       "    .dataframe tbody tr th {\n",
       "        vertical-align: top;\n",
       "    }\n",
       "\n",
       "    .dataframe thead th {\n",
       "        text-align: right;\n",
       "    }\n",
       "</style>\n",
       "<table border=\"1\" class=\"dataframe\">\n",
       "  <thead>\n",
       "    <tr style=\"text-align: right;\">\n",
       "      <th></th>\n",
       "      <th>location</th>\n",
       "      <th>bathrooms</th>\n",
       "      <th>bedrooms</th>\n",
       "      <th>m2</th>\n",
       "      <th>prop_NOTA</th>\n",
       "      <th>prop_apartment</th>\n",
       "      <th>prop_house</th>\n",
       "      <th>Cluster</th>\n",
       "    </tr>\n",
       "  </thead>\n",
       "  <tbody>\n",
       "    <tr>\n",
       "      <th>0</th>\n",
       "      <td>0.023256</td>\n",
       "      <td>0.333333</td>\n",
       "      <td>0.333333</td>\n",
       "      <td>0.307636</td>\n",
       "      <td>0.0</td>\n",
       "      <td>1.0</td>\n",
       "      <td>0.0</td>\n",
       "      <td>1</td>\n",
       "    </tr>\n",
       "    <tr>\n",
       "      <th>1</th>\n",
       "      <td>0.569767</td>\n",
       "      <td>1.000000</td>\n",
       "      <td>0.333333</td>\n",
       "      <td>0.667401</td>\n",
       "      <td>0.0</td>\n",
       "      <td>1.0</td>\n",
       "      <td>0.0</td>\n",
       "      <td>1</td>\n",
       "    </tr>\n",
       "    <tr>\n",
       "      <th>2</th>\n",
       "      <td>0.546512</td>\n",
       "      <td>0.333333</td>\n",
       "      <td>0.333333</td>\n",
       "      <td>0.074890</td>\n",
       "      <td>0.0</td>\n",
       "      <td>1.0</td>\n",
       "      <td>0.0</td>\n",
       "      <td>1</td>\n",
       "    </tr>\n",
       "    <tr>\n",
       "      <th>3</th>\n",
       "      <td>0.860465</td>\n",
       "      <td>0.333333</td>\n",
       "      <td>0.333333</td>\n",
       "      <td>0.353891</td>\n",
       "      <td>0.0</td>\n",
       "      <td>1.0</td>\n",
       "      <td>0.0</td>\n",
       "      <td>1</td>\n",
       "    </tr>\n",
       "    <tr>\n",
       "      <th>4</th>\n",
       "      <td>0.546512</td>\n",
       "      <td>0.333333</td>\n",
       "      <td>0.333333</td>\n",
       "      <td>0.284141</td>\n",
       "      <td>0.0</td>\n",
       "      <td>1.0</td>\n",
       "      <td>0.0</td>\n",
       "      <td>1</td>\n",
       "    </tr>\n",
       "    <tr>\n",
       "      <th>...</th>\n",
       "      <td>...</td>\n",
       "      <td>...</td>\n",
       "      <td>...</td>\n",
       "      <td>...</td>\n",
       "      <td>...</td>\n",
       "      <td>...</td>\n",
       "      <td>...</td>\n",
       "      <td>...</td>\n",
       "    </tr>\n",
       "    <tr>\n",
       "      <th>76</th>\n",
       "      <td>0.546512</td>\n",
       "      <td>0.666667</td>\n",
       "      <td>0.500000</td>\n",
       "      <td>0.200441</td>\n",
       "      <td>0.0</td>\n",
       "      <td>1.0</td>\n",
       "      <td>0.0</td>\n",
       "      <td>1</td>\n",
       "    </tr>\n",
       "    <tr>\n",
       "      <th>77</th>\n",
       "      <td>1.000000</td>\n",
       "      <td>0.333333</td>\n",
       "      <td>0.333333</td>\n",
       "      <td>0.246696</td>\n",
       "      <td>0.0</td>\n",
       "      <td>1.0</td>\n",
       "      <td>0.0</td>\n",
       "      <td>1</td>\n",
       "    </tr>\n",
       "    <tr>\n",
       "      <th>78</th>\n",
       "      <td>0.093023</td>\n",
       "      <td>0.333333</td>\n",
       "      <td>0.500000</td>\n",
       "      <td>0.444200</td>\n",
       "      <td>0.0</td>\n",
       "      <td>1.0</td>\n",
       "      <td>0.0</td>\n",
       "      <td>1</td>\n",
       "    </tr>\n",
       "    <tr>\n",
       "      <th>79</th>\n",
       "      <td>0.279070</td>\n",
       "      <td>0.666667</td>\n",
       "      <td>0.333333</td>\n",
       "      <td>0.167401</td>\n",
       "      <td>0.0</td>\n",
       "      <td>1.0</td>\n",
       "      <td>0.0</td>\n",
       "      <td>1</td>\n",
       "    </tr>\n",
       "    <tr>\n",
       "      <th>80</th>\n",
       "      <td>0.569767</td>\n",
       "      <td>0.000000</td>\n",
       "      <td>0.333333</td>\n",
       "      <td>0.238620</td>\n",
       "      <td>0.0</td>\n",
       "      <td>1.0</td>\n",
       "      <td>0.0</td>\n",
       "      <td>1</td>\n",
       "    </tr>\n",
       "  </tbody>\n",
       "</table>\n",
       "<p>81 rows × 8 columns</p>\n",
       "</div>"
      ],
      "text/plain": [
       "    location  bathrooms  bedrooms        m2  prop_NOTA  prop_apartment  \\\n",
       "0   0.023256   0.333333  0.333333  0.307636        0.0             1.0   \n",
       "1   0.569767   1.000000  0.333333  0.667401        0.0             1.0   \n",
       "2   0.546512   0.333333  0.333333  0.074890        0.0             1.0   \n",
       "3   0.860465   0.333333  0.333333  0.353891        0.0             1.0   \n",
       "4   0.546512   0.333333  0.333333  0.284141        0.0             1.0   \n",
       "..       ...        ...       ...       ...        ...             ...   \n",
       "76  0.546512   0.666667  0.500000  0.200441        0.0             1.0   \n",
       "77  1.000000   0.333333  0.333333  0.246696        0.0             1.0   \n",
       "78  0.093023   0.333333  0.500000  0.444200        0.0             1.0   \n",
       "79  0.279070   0.666667  0.333333  0.167401        0.0             1.0   \n",
       "80  0.569767   0.000000  0.333333  0.238620        0.0             1.0   \n",
       "\n",
       "    prop_house  Cluster  \n",
       "0          0.0        1  \n",
       "1          0.0        1  \n",
       "2          0.0        1  \n",
       "3          0.0        1  \n",
       "4          0.0        1  \n",
       "..         ...      ...  \n",
       "76         0.0        1  \n",
       "77         0.0        1  \n",
       "78         0.0        1  \n",
       "79         0.0        1  \n",
       "80         0.0        1  \n",
       "\n",
       "[81 rows x 8 columns]"
      ]
     },
     "execution_count": 118,
     "metadata": {},
     "output_type": "execute_result"
    }
   ],
   "source": [
    "Xr_test"
   ]
  },
  {
   "cell_type": "code",
   "execution_count": 119,
   "id": "f766b8f4",
   "metadata": {},
   "outputs": [],
   "source": [
    "clusters_test = Xr_test.Cluster.copy()\n",
    "Xreal_test = Xr_test.drop(['Cluster'], axis = 1)"
   ]
  },
  {
   "cell_type": "code",
   "execution_count": 120,
   "id": "0b24f1aa",
   "metadata": {},
   "outputs": [],
   "source": [
    "data_test_real = pd.concat([yr_test, Xreal_test], axis = 1)\n",
    "data_test_rl = pd.concat([pd.DataFrame(yr_rl_pred_test), Xreal_test], axis = 1)\n",
    "data_test_rn = pd.concat([yr_rn_pred_test, Xreal_test], axis = 1)"
   ]
  },
  {
   "cell_type": "code",
   "execution_count": 121,
   "id": "64d572b7",
   "metadata": {},
   "outputs": [],
   "source": [
    "data_test_real[data_test_real.columns] = mms.inverse_transform(data_test_real[data_test_real.columns].copy())\n",
    "data_test_rl[data_test_rl.columns] = mms.inverse_transform(data_test_rl[data_test_rl.columns].copy())\n",
    "data_test_rn[data_test_rn.columns] = mms.inverse_transform(data_test_rn[data_test_rn.columns].copy())"
   ]
  },
  {
   "cell_type": "code",
   "execution_count": 122,
   "id": "e1b58057",
   "metadata": {},
   "outputs": [],
   "source": [
    "data_test_real.rename(columns={'price': 'Real Price'}, inplace = True)\n",
    "data_test_rl.rename(columns={0: 'RL Price Pred'}, inplace = True)\n",
    "data_test_rn.rename(columns={0: 'RN Price Pred'}, inplace = True)"
   ]
  },
  {
   "cell_type": "code",
   "execution_count": 123,
   "id": "baf5480e",
   "metadata": {
    "scrolled": true
   },
   "outputs": [
    {
     "data": {
      "text/html": [
       "<div>\n",
       "<style scoped>\n",
       "    .dataframe tbody tr th:only-of-type {\n",
       "        vertical-align: middle;\n",
       "    }\n",
       "\n",
       "    .dataframe tbody tr th {\n",
       "        vertical-align: top;\n",
       "    }\n",
       "\n",
       "    .dataframe thead th {\n",
       "        text-align: right;\n",
       "    }\n",
       "</style>\n",
       "<table border=\"1\" class=\"dataframe\">\n",
       "  <thead>\n",
       "    <tr style=\"text-align: right;\">\n",
       "      <th></th>\n",
       "      <th>RL Price Pred</th>\n",
       "      <th>RN Price Pred</th>\n",
       "      <th>Real Price</th>\n",
       "      <th>location</th>\n",
       "      <th>bathrooms</th>\n",
       "      <th>bedrooms</th>\n",
       "      <th>m2</th>\n",
       "      <th>prop_NOTA</th>\n",
       "      <th>prop_apartment</th>\n",
       "      <th>prop_house</th>\n",
       "      <th>Cluster</th>\n",
       "    </tr>\n",
       "  </thead>\n",
       "  <tbody>\n",
       "    <tr>\n",
       "      <th>0</th>\n",
       "      <td>4.140836e+06</td>\n",
       "      <td>4.118630e+06</td>\n",
       "      <td>3595245.0</td>\n",
       "      <td>2.0</td>\n",
       "      <td>2.0</td>\n",
       "      <td>2.0</td>\n",
       "      <td>183.666667</td>\n",
       "      <td>0.0</td>\n",
       "      <td>1.0</td>\n",
       "      <td>0.0</td>\n",
       "      <td>1</td>\n",
       "    </tr>\n",
       "    <tr>\n",
       "      <th>1</th>\n",
       "      <td>6.837934e+06</td>\n",
       "      <td>8.966016e+06</td>\n",
       "      <td>9000000.0</td>\n",
       "      <td>49.0</td>\n",
       "      <td>4.0</td>\n",
       "      <td>2.0</td>\n",
       "      <td>347.000000</td>\n",
       "      <td>0.0</td>\n",
       "      <td>1.0</td>\n",
       "      <td>0.0</td>\n",
       "      <td>1</td>\n",
       "    </tr>\n",
       "    <tr>\n",
       "      <th>2</th>\n",
       "      <td>2.794440e+06</td>\n",
       "      <td>2.828543e+06</td>\n",
       "      <td>3790000.0</td>\n",
       "      <td>47.0</td>\n",
       "      <td>2.0</td>\n",
       "      <td>2.0</td>\n",
       "      <td>78.000000</td>\n",
       "      <td>0.0</td>\n",
       "      <td>1.0</td>\n",
       "      <td>0.0</td>\n",
       "      <td>1</td>\n",
       "    </tr>\n",
       "    <tr>\n",
       "      <th>3</th>\n",
       "      <td>5.042323e+06</td>\n",
       "      <td>5.261887e+06</td>\n",
       "      <td>3550000.0</td>\n",
       "      <td>74.0</td>\n",
       "      <td>2.0</td>\n",
       "      <td>2.0</td>\n",
       "      <td>204.666667</td>\n",
       "      <td>0.0</td>\n",
       "      <td>1.0</td>\n",
       "      <td>0.0</td>\n",
       "      <td>1</td>\n",
       "    </tr>\n",
       "    <tr>\n",
       "      <th>4</th>\n",
       "      <td>4.321765e+06</td>\n",
       "      <td>3.709982e+06</td>\n",
       "      <td>2660000.0</td>\n",
       "      <td>47.0</td>\n",
       "      <td>2.0</td>\n",
       "      <td>2.0</td>\n",
       "      <td>173.000000</td>\n",
       "      <td>0.0</td>\n",
       "      <td>1.0</td>\n",
       "      <td>0.0</td>\n",
       "      <td>1</td>\n",
       "    </tr>\n",
       "  </tbody>\n",
       "</table>\n",
       "</div>"
      ],
      "text/plain": [
       "   RL Price Pred  RN Price Pred  Real Price  location  bathrooms  bedrooms  \\\n",
       "0   4.140836e+06   4.118630e+06   3595245.0       2.0        2.0       2.0   \n",
       "1   6.837934e+06   8.966016e+06   9000000.0      49.0        4.0       2.0   \n",
       "2   2.794440e+06   2.828543e+06   3790000.0      47.0        2.0       2.0   \n",
       "3   5.042323e+06   5.261887e+06   3550000.0      74.0        2.0       2.0   \n",
       "4   4.321765e+06   3.709982e+06   2660000.0      47.0        2.0       2.0   \n",
       "\n",
       "           m2  prop_NOTA  prop_apartment  prop_house  Cluster  \n",
       "0  183.666667        0.0             1.0         0.0        1  \n",
       "1  347.000000        0.0             1.0         0.0        1  \n",
       "2   78.000000        0.0             1.0         0.0        1  \n",
       "3  204.666667        0.0             1.0         0.0        1  \n",
       "4  173.000000        0.0             1.0         0.0        1  "
      ]
     },
     "execution_count": 123,
     "metadata": {},
     "output_type": "execute_result"
    }
   ],
   "source": [
    "df_final = pd.concat([data_test_rl['RL Price Pred'], data_test_rn['RN Price Pred'], data_test_real, clusters_test], axis = 1)\n",
    "df_final.head()"
   ]
  },
  {
   "cell_type": "code",
   "execution_count": 124,
   "id": "e8fbd29d",
   "metadata": {},
   "outputs": [
    {
     "data": {
      "text/html": [
       "<div>\n",
       "<style scoped>\n",
       "    .dataframe tbody tr th:only-of-type {\n",
       "        vertical-align: middle;\n",
       "    }\n",
       "\n",
       "    .dataframe tbody tr th {\n",
       "        vertical-align: top;\n",
       "    }\n",
       "\n",
       "    .dataframe thead th {\n",
       "        text-align: right;\n",
       "    }\n",
       "</style>\n",
       "<table border=\"1\" class=\"dataframe\">\n",
       "  <thead>\n",
       "    <tr style=\"text-align: right;\">\n",
       "      <th></th>\n",
       "      <th>Frecuencia</th>\n",
       "      <th>RL Price Pred</th>\n",
       "      <th>RN Price Pred</th>\n",
       "      <th>Real Price</th>\n",
       "      <th>location</th>\n",
       "      <th>bathrooms</th>\n",
       "      <th>bedrooms</th>\n",
       "      <th>m2</th>\n",
       "      <th>prop_NOTA</th>\n",
       "      <th>prop_apartment</th>\n",
       "      <th>prop_house</th>\n",
       "    </tr>\n",
       "    <tr>\n",
       "      <th>Cluster</th>\n",
       "      <th></th>\n",
       "      <th></th>\n",
       "      <th></th>\n",
       "      <th></th>\n",
       "      <th></th>\n",
       "      <th></th>\n",
       "      <th></th>\n",
       "      <th></th>\n",
       "      <th></th>\n",
       "      <th></th>\n",
       "      <th></th>\n",
       "    </tr>\n",
       "  </thead>\n",
       "  <tbody>\n",
       "    <tr>\n",
       "      <th>1</th>\n",
       "      <td>81</td>\n",
       "      <td>4615028.0</td>\n",
       "      <td>4999349.0</td>\n",
       "      <td>5048728.0</td>\n",
       "      <td>46.0</td>\n",
       "      <td>2.0</td>\n",
       "      <td>2.0</td>\n",
       "      <td>176.0</td>\n",
       "      <td>0.0</td>\n",
       "      <td>1.0</td>\n",
       "      <td>0.0</td>\n",
       "    </tr>\n",
       "  </tbody>\n",
       "</table>\n",
       "</div>"
      ],
      "text/plain": [
       "         Frecuencia  RL Price Pred  RN Price Pred  Real Price  location  \\\n",
       "Cluster                                                                   \n",
       "1                81      4615028.0      4999349.0   5048728.0      46.0   \n",
       "\n",
       "         bathrooms  bedrooms     m2  prop_NOTA  prop_apartment  prop_house  \n",
       "Cluster                                                                     \n",
       "1              2.0       2.0  176.0        0.0             1.0         0.0  "
      ]
     },
     "execution_count": 124,
     "metadata": {},
     "output_type": "execute_result"
    }
   ],
   "source": [
    "cc_rp=(pd.concat([df_final.groupby(by='Cluster').size(),np.round(df_final.groupby(by='Cluster').agg(pd.Series.mean))],axis=1))\n",
    "cc_rp.columns.values[0:1]='Frecuencia'\n",
    "cc_rp"
   ]
  },
  {
   "cell_type": "code",
   "execution_count": 125,
   "id": "86e95d94-e83c-4d84-b9fe-7e55133ef8a5",
   "metadata": {
    "tags": []
   },
   "outputs": [],
   "source": [
    "quartiles = pd.qcut(df_final[\"Real Price\"], 4)\n",
    "\n",
    "# Create a new dataframe with the quartiles\n",
    "quartiles_df = df_final.assign(quartile=quartiles)"
   ]
  },
  {
   "cell_type": "code",
   "execution_count": 126,
   "id": "4a00fe57-b68b-415b-950d-6ced2640b85e",
   "metadata": {},
   "outputs": [
    {
     "data": {
      "text/html": [
       "<div>\n",
       "<style scoped>\n",
       "    .dataframe tbody tr th:only-of-type {\n",
       "        vertical-align: middle;\n",
       "    }\n",
       "\n",
       "    .dataframe tbody tr th {\n",
       "        vertical-align: top;\n",
       "    }\n",
       "\n",
       "    .dataframe thead th {\n",
       "        text-align: right;\n",
       "    }\n",
       "</style>\n",
       "<table border=\"1\" class=\"dataframe\">\n",
       "  <thead>\n",
       "    <tr style=\"text-align: right;\">\n",
       "      <th></th>\n",
       "      <th>RL Price Pred</th>\n",
       "      <th>RN Price Pred</th>\n",
       "      <th>Real Price</th>\n",
       "      <th>location</th>\n",
       "      <th>bathrooms</th>\n",
       "      <th>bedrooms</th>\n",
       "      <th>m2</th>\n",
       "      <th>prop_NOTA</th>\n",
       "      <th>prop_apartment</th>\n",
       "      <th>prop_house</th>\n",
       "      <th>Cluster</th>\n",
       "    </tr>\n",
       "    <tr>\n",
       "      <th>quartile</th>\n",
       "      <th></th>\n",
       "      <th></th>\n",
       "      <th></th>\n",
       "      <th></th>\n",
       "      <th></th>\n",
       "      <th></th>\n",
       "      <th></th>\n",
       "      <th></th>\n",
       "      <th></th>\n",
       "      <th></th>\n",
       "      <th></th>\n",
       "    </tr>\n",
       "  </thead>\n",
       "  <tbody>\n",
       "    <tr>\n",
       "      <th>(954996.999, 2700000.0]</th>\n",
       "      <td>3356971.0</td>\n",
       "      <td>3826760.0</td>\n",
       "      <td>2221071.0</td>\n",
       "      <td>44.0</td>\n",
       "      <td>2.0</td>\n",
       "      <td>2.0</td>\n",
       "      <td>137.0</td>\n",
       "      <td>0.0</td>\n",
       "      <td>1.0</td>\n",
       "      <td>0.0</td>\n",
       "      <td>1</td>\n",
       "    </tr>\n",
       "    <tr>\n",
       "      <th>(2700000.0, 3750000.0]</th>\n",
       "      <td>3988349.0</td>\n",
       "      <td>4016829.0</td>\n",
       "      <td>3307244.0</td>\n",
       "      <td>47.0</td>\n",
       "      <td>2.0</td>\n",
       "      <td>2.0</td>\n",
       "      <td>147.0</td>\n",
       "      <td>0.0</td>\n",
       "      <td>1.0</td>\n",
       "      <td>0.0</td>\n",
       "      <td>1</td>\n",
       "    </tr>\n",
       "    <tr>\n",
       "      <th>(3750000.0, 6922160.0]</th>\n",
       "      <td>4362744.0</td>\n",
       "      <td>4631230.0</td>\n",
       "      <td>5325847.0</td>\n",
       "      <td>43.0</td>\n",
       "      <td>2.0</td>\n",
       "      <td>2.0</td>\n",
       "      <td>186.0</td>\n",
       "      <td>0.0</td>\n",
       "      <td>1.0</td>\n",
       "      <td>0.0</td>\n",
       "      <td>1</td>\n",
       "    </tr>\n",
       "    <tr>\n",
       "      <th>(6922160.0, 17930250.0]</th>\n",
       "      <td>6852392.0</td>\n",
       "      <td>7642645.0</td>\n",
       "      <td>9683992.0</td>\n",
       "      <td>49.0</td>\n",
       "      <td>2.0</td>\n",
       "      <td>3.0</td>\n",
       "      <td>239.0</td>\n",
       "      <td>0.0</td>\n",
       "      <td>1.0</td>\n",
       "      <td>0.0</td>\n",
       "      <td>1</td>\n",
       "    </tr>\n",
       "  </tbody>\n",
       "</table>\n",
       "</div>"
      ],
      "text/plain": [
       "                         RL Price Pred  RN Price Pred  Real Price  location  \\\n",
       "quartile                                                                      \n",
       "(954996.999, 2700000.0]      3356971.0      3826760.0   2221071.0      44.0   \n",
       "(2700000.0, 3750000.0]       3988349.0      4016829.0   3307244.0      47.0   \n",
       "(3750000.0, 6922160.0]       4362744.0      4631230.0   5325847.0      43.0   \n",
       "(6922160.0, 17930250.0]      6852392.0      7642645.0   9683992.0      49.0   \n",
       "\n",
       "                         bathrooms  bedrooms     m2  prop_NOTA  \\\n",
       "quartile                                                         \n",
       "(954996.999, 2700000.0]        2.0       2.0  137.0        0.0   \n",
       "(2700000.0, 3750000.0]         2.0       2.0  147.0        0.0   \n",
       "(3750000.0, 6922160.0]         2.0       2.0  186.0        0.0   \n",
       "(6922160.0, 17930250.0]        2.0       3.0  239.0        0.0   \n",
       "\n",
       "                         prop_apartment  prop_house  Cluster  \n",
       "quartile                                                      \n",
       "(954996.999, 2700000.0]             1.0         0.0        1  \n",
       "(2700000.0, 3750000.0]              1.0         0.0        1  \n",
       "(3750000.0, 6922160.0]              1.0         0.0        1  \n",
       "(6922160.0, 17930250.0]             1.0         0.0        1  "
      ]
     },
     "execution_count": 126,
     "metadata": {},
     "output_type": "execute_result"
    }
   ],
   "source": [
    "round(quartiles_df.groupby('quartile').agg(pd.Series.mean), 0)"
   ]
  },
  {
   "cell_type": "code",
   "execution_count": 127,
   "id": "a03e4e6a",
   "metadata": {
    "scrolled": true
   },
   "outputs": [
    {
     "data": {
      "text/plain": [
       "array(['Los Sauces', 'Marina Mazatlán', 'Los Portales', 'Mazatlán'],\n",
       "      dtype=object)"
      ]
     },
     "execution_count": 127,
     "metadata": {},
     "output_type": "execute_result"
    }
   ],
   "source": [
    "lenc.inverse_transform([44, 47, 43, 49])"
   ]
  },
  {
   "cell_type": "code",
   "execution_count": 128,
   "id": "8f108be0-f2e8-41e0-aa88-2baef55cf947",
   "metadata": {
    "scrolled": true,
    "tags": []
   },
   "outputs": [
    {
     "data": {
      "image/png": "[encoded data removed]",
      "text/plain": [
       "<Figure size 432x288 with 1 Axes>"
      ]
     },
     "metadata": {
      "needs_background": "light"
     },
     "output_type": "display_data"
    }
   ],
   "source": [
    "sns.lineplot(data = df_final[['Real Price', 'RL Price Pred', 'RN Price Pred']])\n",
    "plt.title('Real Prices Vs Models Prices')\n",
    "plt.show()"
   ]
  }
 ],
 "metadata": {
  "kernelspec": {
   "display_name": "Python 3",
   "language": "python",
   "name": "python3"
  },
  "language_info": {
   "codemirror_mode": {
    "name": "ipython",
    "version": 3
   },
   "file_extension": ".py",
   "mimetype": "text/x-python",
   "name": "python",
   "nbconvert_exporter": "python",
   "pygments_lexer": "ipython3",
   "version": "3.8.8"
  }
 },
 "nbformat": 4,
 "nbformat_minor": 5
}
